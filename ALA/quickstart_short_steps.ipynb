{
 "cells": [
  {
   "cell_type": "markdown",
   "metadata": {},
   "source": [
    "# Python Project Quickstart\n",
    "\n",
    "The goal of this notebook is to show step by step go from cells -> functions -> classes -> external py files\n",
    "\n",
    "### 1. Initial checks and imports"
   ]
  },
  {
   "cell_type": "code",
   "execution_count": 1,
   "metadata": {},
   "outputs": [
    {
     "name": "stdout",
     "output_type": "stream",
     "text": [
      "['/Users/rakshith/Documents/MSIS/ALA', '/opt/anaconda3/envs/pycaretenv/lib/python39.zip', '/opt/anaconda3/envs/pycaretenv/lib/python3.9', '/opt/anaconda3/envs/pycaretenv/lib/python3.9/lib-dynload', '', '/opt/anaconda3/envs/pycaretenv/lib/python3.9/site-packages']\n"
     ]
    }
   ],
   "source": [
    "# Check python paths\n",
    "\n",
    "import sys\n",
    "print(sys.path)"
   ]
  },
  {
   "cell_type": "code",
   "execution_count": 2,
   "metadata": {},
   "outputs": [],
   "source": [
    "# Add imports here\n",
    "\n",
    "import numpy as np"
   ]
  },
  {
   "cell_type": "code",
   "execution_count": 3,
   "metadata": {},
   "outputs": [
    {
     "data": {
      "text/plain": [
       "'1.21.6'"
      ]
     },
     "execution_count": 3,
     "metadata": {},
     "output_type": "execute_result"
    }
   ],
   "source": [
    "np.__version__ #Print the version to see if it matches with what was specified in requirements.txt"
   ]
  },
  {
   "cell_type": "markdown",
   "metadata": {},
   "source": [
    "### 2. String, Formatted Strings and Hello world"
   ]
  },
  {
   "cell_type": "code",
   "execution_count": 4,
   "metadata": {},
   "outputs": [
    {
     "data": {
      "text/plain": [
       "'Hello John Smith'"
      ]
     },
     "execution_count": 4,
     "metadata": {},
     "output_type": "execute_result"
    }
   ],
   "source": [
    "# Append first and last name\n",
    "first_name = \"John\"\n",
    "last_name = \"Smith\"\n",
    "\n",
    "full_name = \"Hello \" + first_name + \" \" + last_name\n",
    "full_name"
   ]
  },
  {
   "cell_type": "code",
   "execution_count": 5,
   "metadata": {},
   "outputs": [
    {
     "data": {
      "text/plain": [
       "'Hello John Smith'"
      ]
     },
     "execution_count": 5,
     "metadata": {},
     "output_type": "execute_result"
    }
   ],
   "source": [
    "# Append first and last name with f string\n",
    "first_name = \"John\"\n",
    "last_name = \"Smith\"\n",
    "\n",
    "full_name = f\"Hello {first_name} {last_name}\"\n",
    "full_name"
   ]
  },
  {
   "cell_type": "markdown",
   "metadata": {},
   "source": [
    "### 3. Python Functions\n",
    "\n",
    "1. Given the person's language of preference, we would like to greet the person appropriately\n",
    "2. If language is English then we want to say \"Hello Mr. John Smith\"\n",
    "3. If language is Spanish then we want to say \"Hello Senor John Smith\""
   ]
  },
  {
   "cell_type": "code",
   "execution_count": 6,
   "metadata": {},
   "outputs": [],
   "source": [
    "# decide on the salutations based on language.\n",
    "def get_mr(language):\n",
    "    person_address = \"Mr.\"\n",
    "    if language == 'Spanish':\n",
    "        person_address = 'Senor'\n",
    "    elif language == 'French':\n",
    "        person_address = \"Monsieur\"\n",
    "    elif language == \"Hindi\":\n",
    "        person_address = \"Srimaan\"\n",
    "    elif language == \"Urdu\":\n",
    "        person_address = \"Janaab\"\n",
    "\n",
    "    return person_address"
   ]
  },
  {
   "cell_type": "code",
   "execution_count": 7,
   "metadata": {},
   "outputs": [
    {
     "data": {
      "text/plain": [
       "'Janaab Mirza Ghalib'"
      ]
     },
     "execution_count": 7,
     "metadata": {},
     "output_type": "execute_result"
    }
   ],
   "source": [
    "first_name = \"Mirza\"\n",
    "last_name = \"Ghalib\"\n",
    "\n",
    "mr = get_mr('Urdu')\n",
    "full_name = f\"{mr} {first_name} {last_name}\"\n",
    "full_name"
   ]
  },
  {
   "cell_type": "code",
   "execution_count": 8,
   "metadata": {},
   "outputs": [],
   "source": [
    "# A function that calls another function \n",
    "def get_fullname(first_name, last_name, language=\"English\"):\n",
    "    person_address = get_mr(language)\n",
    "    full_name = f\"{person_address} {first_name} {last_name}\"\n",
    "    return full_name"
   ]
  },
  {
   "cell_type": "code",
   "execution_count": 9,
   "metadata": {},
   "outputs": [
    {
     "name": "stdout",
     "output_type": "stream",
     "text": [
      "Srimaan John Smith\n",
      "Mr. John Smith\n"
     ]
    }
   ],
   "source": [
    "print(get_fullname(\"John\", \"Smith\", \"Hindi\"))\n",
    "print(get_fullname(\"John\", \"Smith\")) # If no language is specified, then default value = English"
   ]
  },
  {
   "cell_type": "markdown",
   "metadata": {},
   "source": [
    "##### 3.1 Functions with type hints\n",
    "Note the use of type hints as per PEP 484 https://peps.python.org/pep-0484/"
   ]
  },
  {
   "cell_type": "code",
   "execution_count": 10,
   "metadata": {},
   "outputs": [],
   "source": [
    "# Specifying the arguments data type and return data type\n",
    "# This is not mandatory\n",
    "# Even is you incorrectly specify there are no checks by Python interpreter\n",
    "def get_mr(language: str) -> str:\n",
    "    person_address = \"Mr.\"\n",
    "    if language == 'Spanish':\n",
    "        person_address = 'Senor'\n",
    "    elif language == 'French':\n",
    "        person_address = \"Monsieur\"\n",
    "    elif language == \"Hindi\":\n",
    "        person_address = \"Srimaan\"\n",
    "    elif language == \"Urdu\":\n",
    "        person_address = \"Janaab\"\n",
    "\n",
    "    return person_address"
   ]
  },
  {
   "cell_type": "code",
   "execution_count": 11,
   "metadata": {},
   "outputs": [],
   "source": [
    "def get_fullname(first_name: str, last_name: str, language=\"English\") -> str:\n",
    "    person_address = get_mr(language)\n",
    "    full_name = f\"{person_address} {first_name} {last_name}\"\n",
    "    return full_name"
   ]
  },
  {
   "cell_type": "code",
   "execution_count": 12,
   "metadata": {},
   "outputs": [
    {
     "name": "stdout",
     "output_type": "stream",
     "text": [
      "Srimaan John Smith\n",
      "Mr. John Smith\n"
     ]
    }
   ],
   "source": [
    "print(get_fullname(\"John\", \"Smith\", \"Hindi\"))\n",
    "print(get_fullname(\"John\", \"Smith\")) # If no language is specified, then default value = English"
   ]
  },
  {
   "cell_type": "code",
   "execution_count": 13,
   "metadata": {},
   "outputs": [],
   "source": [
    "# A candidate has applied for a job. \n",
    "# Send an appropriate email application based on whether application is accepted or rejected\n",
    "def get_email_content(first_name:str, last_name:str, language:str, rejected:bool =False):\n",
    "    full_name_with_salutation = get_fullname(first_name, last_name, language)\n",
    "    email_salutation = f\"Dear {full_name_with_salutation},\\n\"\n",
    "    \n",
    "    if rejected:\n",
    "        email_body = \"We are sorry to inform your job application has been rejected\"\n",
    "    else:\n",
    "        email_body = \"Congratulations. Your job application has been accepted.\"\n",
    "    \n",
    "    email_contents = email_salutation + email_body\n",
    "    return email_contents"
   ]
  },
  {
   "cell_type": "code",
   "execution_count": 14,
   "metadata": {},
   "outputs": [
    {
     "data": {
      "text/plain": [
       "'Dear Monsieur John Smith,\\nCongratulations. Your job application has been accepted.'"
      ]
     },
     "execution_count": 14,
     "metadata": {},
     "output_type": "execute_result"
    }
   ],
   "source": [
    "get_email_content(\"John\", \"Smith\", \"French\")"
   ]
  },
  {
   "cell_type": "markdown",
   "metadata": {},
   "source": [
    "### 5. Creating a Candidate class"
   ]
  },
  {
   "cell_type": "code",
   "execution_count": 15,
   "metadata": {},
   "outputs": [],
   "source": [
    "class Candidate:\n",
    "    \"\"\"\n",
    "    Constructor\n",
    "    \"\"\"\n",
    "    def __init__(self): # missing self argument. this will thrown an error\n",
    "        pass"
   ]
  },
  {
   "cell_type": "code",
   "execution_count": 17,
   "metadata": {},
   "outputs": [
    {
     "ename": "TypeError",
     "evalue": "__init__() takes 0 positional arguments but 1 was given",
     "output_type": "error",
     "traceback": [
      "\u001b[0;31m---------------------------------------------------------------------------\u001b[0m",
      "\u001b[0;31mTypeError\u001b[0m                                 Traceback (most recent call last)",
      "Cell \u001b[0;32mIn[17], line 1\u001b[0m\n\u001b[0;32m----> 1\u001b[0m candidate \u001b[39m=\u001b[39m Candidate()\n",
      "\u001b[0;31mTypeError\u001b[0m: __init__() takes 0 positional arguments but 1 was given"
     ]
    }
   ],
   "source": [
    "candidate = Candidate()"
   ]
  },
  {
   "cell_type": "code",
   "execution_count": null,
   "metadata": {},
   "outputs": [],
   "source": [
    "class Candidate:\n",
    "    \"\"\"\n",
    "    Constructor\n",
    "    \"\"\"\n",
    "    def _init_(self): # this does not run. why?\n",
    "        print(\"Entering constructor of Candidate class\")"
   ]
  },
  {
   "cell_type": "code",
   "execution_count": null,
   "metadata": {},
   "outputs": [],
   "source": [
    "candidate = Candidate()"
   ]
  },
  {
   "cell_type": "code",
   "execution_count": null,
   "metadata": {},
   "outputs": [],
   "source": [
    "class Candidate:\n",
    "    \"\"\"\n",
    "    Constructor\n",
    "    \"\"\"\n",
    "    def __init__(self): # this will run\n",
    "        print(\"Entering constructor of Candidate class\")"
   ]
  },
  {
   "cell_type": "code",
   "execution_count": null,
   "metadata": {},
   "outputs": [],
   "source": [
    "candidate = Candidate()"
   ]
  },
  {
   "cell_type": "code",
   "execution_count": null,
   "metadata": {},
   "outputs": [],
   "source": [
    "# Create a class, access its attributes\n",
    "class Candidate:\n",
    "    \"\"\"\n",
    "    Constructor\n",
    "    \"\"\"\n",
    "    def __init__(self, first_name, last_name): # this will run, but will not work as expected\n",
    "        print(\"Entering constructor of Candidate class\")\n",
    "        first_name = first_name\n",
    "        last_name = last_name"
   ]
  },
  {
   "cell_type": "code",
   "execution_count": null,
   "metadata": {},
   "outputs": [],
   "source": [
    "candidate = Candidate() # this line fails why?\n",
    "candidate.last_name "
   ]
  },
  {
   "cell_type": "code",
   "execution_count": null,
   "metadata": {},
   "outputs": [],
   "source": [
    "# Notice we do not pass \"self\". self is passed automatically by python.\n",
    "# We only pass the arguments after the self, as if they are function arguments\n",
    "candidate = Candidate(\"John\", \"Smith\") \n",
    "\n",
    "candidate.last_name #why does this line give error?"
   ]
  },
  {
   "cell_type": "code",
   "execution_count": null,
   "metadata": {},
   "outputs": [],
   "source": [
    "# TODO\n",
    "# Copy the Candidate class here and make changes to fix the above error\n",
    "# Hint: 'Candidate' object has no attribute 'last_name' implies\n",
    "# the last_name is not associated with the instantiated object \"self\"\n",
    "\n"
   ]
  },
  {
   "cell_type": "code",
   "execution_count": null,
   "metadata": {},
   "outputs": [],
   "source": [
    "# The code below should work correctly \n",
    "# after fixing the errors in Candidate Class and putting in above cell\n",
    "candidate = Candidate(\"John\", \"Smith\") \n",
    "\n",
    "candidate.last_name #This should print the value of the attribute \"last_name\" viz. Smith"
   ]
  },
  {
   "cell_type": "code",
   "execution_count": null,
   "metadata": {},
   "outputs": [],
   "source": [
    "# TODO: Adding bells and whistles\n",
    "class Candidate:\n",
    "    \"\"\"\n",
    "    Constructor\n",
    "    \"\"\"\n",
    "    # TODO Language argument is added new. Make its default value English \n",
    "    # TODO PEP 484 enable the method signature with type hints\n",
    "    def __init__(self, first_name, last_name, language): #l\n",
    "        print(\"Entering constructor of Candidate class\")\n",
    "        # TODO Set all 3 attributes on the object instance\n",
    "        FILL THIS PORTION OF CODE"
   ]
  },
  {
   "cell_type": "code",
   "execution_count": null,
   "metadata": {},
   "outputs": [],
   "source": [
    "# TODO\n",
    "# test the Candidate code\n",
    "FILL THIS PORTION OF CODE"
   ]
  },
  {
   "cell_type": "code",
   "execution_count": null,
   "metadata": {},
   "outputs": [],
   "source": [
    "# TODO: Fill this up by copying the functions \n",
    "# get_mr, get_fullname and get_email_content from their definitions above\n",
    "# Fix the errors iterativelu\n",
    "class Candidate:\n",
    "    \"\"\"\n",
    "    Constructor\n",
    "    \"\"\"\n",
    "    def __init__(self, first_name:str, last_name:str, language:str = \"English\"):\n",
    "        print(\"Entering constructor of Candidate class\")\n",
    "        self.first_name = first_name\n",
    "        self.last_name = last_name\n",
    "        self.language = language\n",
    "\n",
    "    #TODO: Add get_mr function here as a static method. Copy from above and iteratively fix issues\n",
    "    #What is a static method\n",
    "\n",
    "    #TODO: add get_fullname() as instance method. Copy from above and iteratively fix issues\n",
    "\n",
    "    #TODO: add get_email_content() instance method. Copy from above and iteratively fix issues"
   ]
  },
  {
   "cell_type": "code",
   "execution_count": null,
   "metadata": {},
   "outputs": [],
   "source": [
    "# Test stub to check if you correctly fixed everything\n",
    "candidate = Candidate(\"John\", \"Smith\")\n",
    "print(candidate.get_fullname()) \n",
    "print(candidate.get_email_content())"
   ]
  },
  {
   "cell_type": "markdown",
   "metadata": {},
   "source": [
    "### Final class ready to be used"
   ]
  },
  {
   "cell_type": "code",
   "execution_count": null,
   "metadata": {},
   "outputs": [],
   "source": [
    "class Candidate:\n",
    "    \"\"\"\n",
    "    Constructor\n",
    "    \"\"\"\n",
    "    def __init__(self, first_name:str, last_name:str, language:str = \"English\"):\n",
    "        print(\"Entering constructor of Candidate class\")\n",
    "        self.first_name = first_name\n",
    "        self.last_name = last_name\n",
    "        self.language = language\n",
    "\n",
    "    @staticmethod\n",
    "    def get_mr(language: str) -> str:\n",
    "        person_address = \"Mr.\"\n",
    "        if language == 'Spanish':\n",
    "            person_address = 'Senor'\n",
    "        elif language == 'French':\n",
    "            person_address = \"Monsieur\"\n",
    "        elif language == \"Hindi\":\n",
    "            person_address = \"Srimaan\"\n",
    "        elif language == \"Urdu\":\n",
    "            person_address = \"Janaab\"\n",
    "\n",
    "        return person_address\n",
    "\n",
    "    def get_fullname(self):\n",
    "        person_address = Candidate.get_mr(self.language)\n",
    "        full_name = f\"{person_address} {self.first_name} {self.last_name}\"\n",
    "        return full_name\n",
    "\n",
    "    def get_email_content(self, rejected:bool =False):\n",
    "        full_name_with_salutation = self.get_fullname()\n",
    "        email_salutation = f\"Dear {full_name_with_salutation},\\n\"\n",
    "        \n",
    "        if rejected:\n",
    "            email_body = \"We are sorry to inform your job application has been rejected\"\n",
    "        else:\n",
    "            email_body = \"Congratulations. Your job application has been accepted.\"\n",
    "        \n",
    "        email_contents = email_salutation + email_body\n",
    "        return email_contents"
   ]
  },
  {
   "cell_type": "code",
   "execution_count": null,
   "metadata": {},
   "outputs": [],
   "source": [
    "candidate = Candidate(\"John\", \"Smith\")\n",
    "print(candidate.get_fullname()) \n",
    "print(candidate.get_email_content())"
   ]
  },
  {
   "cell_type": "code",
   "execution_count": null,
   "metadata": {},
   "outputs": [],
   "source": []
  }
 ],
 "metadata": {
  "kernelspec": {
   "display_name": "quickstart",
   "language": "python",
   "name": "python3"
  },
  "language_info": {
   "codemirror_mode": {
    "name": "ipython",
    "version": 3
   },
   "file_extension": ".py",
   "mimetype": "text/x-python",
   "name": "python",
   "nbconvert_exporter": "python",
   "pygments_lexer": "ipython3",
   "version": "3.9.17"
  },
  "orig_nbformat": 4
 },
 "nbformat": 4,
 "nbformat_minor": 2
}
