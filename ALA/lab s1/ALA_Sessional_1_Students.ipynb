{
 "cells": [
  {
   "cell_type": "markdown",
   "metadata": {},
   "source": [
    "# ALA Lab Sessional 1 Jupyter Notebook"
   ]
  },
  {
   "cell_type": "markdown",
   "metadata": {},
   "source": [
    "### 1. VS Code is a MUST\n",
    "1. You should code in VS Code. Google Colab not allowed\n",
    "\n",
    "### 2. Pre-requisites for lab in VS Code\n",
    "1. Install PDF export support https://saturncloud.io/blog/how-to-export-jupyter-notebook-by-vscode-in-pdf-format/\n",
    "\n",
    "### 3. At the end, export your notebook as html \n",
    "1. Open VS Code command palette Shift + Ctrl + P\n",
    "2. Type \"Export Jupyter Notebook\" in the search bar and select \"Export Jupyter Notebook to HTML\"\n",
    "3. Upload your html AND ipynb here: https://tinyurl.com/yuvkh4ep (In the prompt, put your name correctly else your submission will be rejected)"
   ]
  },
  {
   "cell_type": "markdown",
   "metadata": {},
   "source": [
    "### 4. Lab Sessional Summary \n",
    "1. A code template is given to you in lab sesional in this jupyter notebook\n",
    "2. The template will follow a linear sequence of TODOs appropriately labelled with question marks\n",
    "3. You will have to fill the TODO question marks to compile those notebook cells and proceed to next cells\n",
    "4. You can think of the linear sequence of TODO templates as a guided thought process.\n",
    "5. Sessional is open book. Google, github, browse product documentation ChatGPT - Do anything you want, except copying from your classmates (Sending questions to your seniors and seeking answers is prohibited). If you are caught carrying out these illegal activities, you will be reported to MSIS Director for immediate action. \n",
    "6. You CANNOT replace the TODO code template with some other code copied from stack overflow, ChatGPT etc. All your browsing and search should give you insights into finally how you can fit that into the framework I provide for the thought process of solving the problem. You will have to mandatorily fill the question marks and proceed with the lab problem."
   ]
  },
  {
   "cell_type": "code",
   "execution_count": 87,
   "metadata": {},
   "outputs": [],
   "source": [
    "import numpy as np\n",
    "import pandas as pd\n",
    "\n",
    "import matplotlib.pyplot as plt"
   ]
  },
  {
   "cell_type": "markdown",
   "metadata": {},
   "source": [
    "### Problem Definition\n",
    "\n",
    "Green Manipal Initiative encourages two wheeler ride sharing for work in Manipal Univeristy from same residential localities. \n",
    "Green Manipal Initiative wants to pair folks with maximum overlap in their interest/hobbies and work schedules for ride sharing because it has discovered over time that people tend to strike conversations during their ride sharing and having many common interests makes ride sharing sustain for a long time. \n",
    "\n",
    "Towards this, it created questionnaires with a series of questions with Yes/No (1/0) answer options. \n",
    "The following questions were asked\n",
    "\n",
    "1. Are you interested in philately?\n",
    "2. Are you interested in bird watching?\n",
    "3. Do you love planting trees?\n",
    "4. Would you participate in clean manipal drive?\n",
    "5. Do you own pets?\n",
    "6. Do you subscribe to organic pesticide free farming?\n",
    "7. Do you work normal 9-5 weekdays?\n",
    "\n",
    "The response for the questionnaire by 10 residents of Malpe locality driving daily to Manipal was put in a dataframe and given to you as follows"
   ]
  },
  {
   "cell_type": "code",
   "execution_count": 88,
   "metadata": {},
   "outputs": [
    {
     "data": {
      "text/html": [
       "<div>\n",
       "<style scoped>\n",
       "    .dataframe tbody tr th:only-of-type {\n",
       "        vertical-align: middle;\n",
       "    }\n",
       "\n",
       "    .dataframe tbody tr th {\n",
       "        vertical-align: top;\n",
       "    }\n",
       "\n",
       "    .dataframe thead th {\n",
       "        text-align: right;\n",
       "    }\n",
       "</style>\n",
       "<table border=\"1\" class=\"dataframe\">\n",
       "  <thead>\n",
       "    <tr style=\"text-align: right;\">\n",
       "      <th></th>\n",
       "      <th>name</th>\n",
       "      <th>philately</th>\n",
       "      <th>birdwatching</th>\n",
       "      <th>planting</th>\n",
       "      <th>cleanmanipal</th>\n",
       "      <th>pets</th>\n",
       "      <th>organic</th>\n",
       "      <th>normal_workweek</th>\n",
       "    </tr>\n",
       "  </thead>\n",
       "  <tbody>\n",
       "    <tr>\n",
       "      <th>0</th>\n",
       "      <td>Mohit</td>\n",
       "      <td>1</td>\n",
       "      <td>0</td>\n",
       "      <td>1</td>\n",
       "      <td>1</td>\n",
       "      <td>0</td>\n",
       "      <td>1</td>\n",
       "      <td>1</td>\n",
       "    </tr>\n",
       "    <tr>\n",
       "      <th>1</th>\n",
       "      <td>Varshini</td>\n",
       "      <td>0</td>\n",
       "      <td>1</td>\n",
       "      <td>1</td>\n",
       "      <td>0</td>\n",
       "      <td>1</td>\n",
       "      <td>1</td>\n",
       "      <td>1</td>\n",
       "    </tr>\n",
       "    <tr>\n",
       "      <th>2</th>\n",
       "      <td>Sunil</td>\n",
       "      <td>0</td>\n",
       "      <td>0</td>\n",
       "      <td>0</td>\n",
       "      <td>1</td>\n",
       "      <td>1</td>\n",
       "      <td>0</td>\n",
       "      <td>1</td>\n",
       "    </tr>\n",
       "    <tr>\n",
       "      <th>3</th>\n",
       "      <td>Rahul</td>\n",
       "      <td>0</td>\n",
       "      <td>0</td>\n",
       "      <td>1</td>\n",
       "      <td>1</td>\n",
       "      <td>0</td>\n",
       "      <td>1</td>\n",
       "      <td>0</td>\n",
       "    </tr>\n",
       "    <tr>\n",
       "      <th>4</th>\n",
       "      <td>Atishay</td>\n",
       "      <td>1</td>\n",
       "      <td>1</td>\n",
       "      <td>0</td>\n",
       "      <td>1</td>\n",
       "      <td>0</td>\n",
       "      <td>0</td>\n",
       "      <td>1</td>\n",
       "    </tr>\n",
       "    <tr>\n",
       "      <th>5</th>\n",
       "      <td>Keerthana</td>\n",
       "      <td>0</td>\n",
       "      <td>1</td>\n",
       "      <td>0</td>\n",
       "      <td>0</td>\n",
       "      <td>0</td>\n",
       "      <td>0</td>\n",
       "      <td>0</td>\n",
       "    </tr>\n",
       "    <tr>\n",
       "      <th>6</th>\n",
       "      <td>Vishwas</td>\n",
       "      <td>1</td>\n",
       "      <td>0</td>\n",
       "      <td>0</td>\n",
       "      <td>0</td>\n",
       "      <td>0</td>\n",
       "      <td>1</td>\n",
       "      <td>0</td>\n",
       "    </tr>\n",
       "    <tr>\n",
       "      <th>7</th>\n",
       "      <td>Mithilesh</td>\n",
       "      <td>0</td>\n",
       "      <td>0</td>\n",
       "      <td>0</td>\n",
       "      <td>0</td>\n",
       "      <td>1</td>\n",
       "      <td>0</td>\n",
       "      <td>1</td>\n",
       "    </tr>\n",
       "    <tr>\n",
       "      <th>8</th>\n",
       "      <td>Shreyas</td>\n",
       "      <td>1</td>\n",
       "      <td>1</td>\n",
       "      <td>0</td>\n",
       "      <td>0</td>\n",
       "      <td>0</td>\n",
       "      <td>1</td>\n",
       "      <td>1</td>\n",
       "    </tr>\n",
       "    <tr>\n",
       "      <th>9</th>\n",
       "      <td>Rakshith</td>\n",
       "      <td>0</td>\n",
       "      <td>1</td>\n",
       "      <td>1</td>\n",
       "      <td>1</td>\n",
       "      <td>0</td>\n",
       "      <td>1</td>\n",
       "      <td>1</td>\n",
       "    </tr>\n",
       "  </tbody>\n",
       "</table>\n",
       "</div>"
      ],
      "text/plain": [
       "        name  philately  birdwatching  planting  cleanmanipal  pets  organic  \\\n",
       "0      Mohit          1             0         1             1     0        1   \n",
       "1   Varshini          0             1         1             0     1        1   \n",
       "2      Sunil          0             0         0             1     1        0   \n",
       "3      Rahul          0             0         1             1     0        1   \n",
       "4    Atishay          1             1         0             1     0        0   \n",
       "5  Keerthana          0             1         0             0     0        0   \n",
       "6    Vishwas          1             0         0             0     0        1   \n",
       "7  Mithilesh          0             0         0             0     1        0   \n",
       "8    Shreyas          1             1         0             0     0        1   \n",
       "9   Rakshith          0             1         1             1     0        1   \n",
       "\n",
       "   normal_workweek  \n",
       "0                1  \n",
       "1                1  \n",
       "2                1  \n",
       "3                0  \n",
       "4                1  \n",
       "5                0  \n",
       "6                0  \n",
       "7                1  \n",
       "8                1  \n",
       "9                1  "
      ]
     },
     "execution_count": 88,
     "metadata": {},
     "output_type": "execute_result"
    }
   ],
   "source": [
    "df_green = pd.DataFrame({\n",
    "                           'name': ['Mohit', 'Varshini', 'Sunil', 'Rahul', 'Atishay', 'Keerthana', 'Vishwas', 'Mithilesh', 'Shreyas', 'Rakshith'],\n",
    "                           'philately' : [1, 0, 0, 0, 1, 0, 1, 0, 1, 0],\n",
    "                           'birdwatching' : [0, 1, 0, 0, 1, 1, 0, 0, 1, 1],\n",
    "                           'planting' : [1, 1, 0, 1, 0, 0, 0, 0, 0, 1],\n",
    "                           'cleanmanipal' : [1, 0, 1, 1, 1, 0, 0, 0, 0, 1],\n",
    "                           'pets': [0, 1, 1, 0, 0, 0, 0, 1, 0, 0],\n",
    "                           'organic': [1, 1, 0, 1, 0, 0, 1, 0, 1, 1],\n",
    "                           'normal_workweek': [1, 1, 1, 0, 1, 0, 0, 1, 1, 1]\n",
    "                           })\n",
    "df_green"
   ]
  },
  {
   "cell_type": "markdown",
   "metadata": {},
   "source": [
    "Green Manipal Initiative has contacted you to identify top 2 pairs of potential ride sharers with most aligned interests.\n",
    "\n",
    "You as the budding data scientist devised a formula to find the similarity between any two potential ride sharers a and b as the intersection over union (IoU)\n",
    "$$\n",
    "similarity = \\frac{a \\cap b}{a \\cup b}\n",
    "$$\n",
    "a and b are two potential ride sharers as records in data frame.\n",
    "\n",
    "For e.g."
   ]
  },
  {
   "cell_type": "code",
   "execution_count": 89,
   "metadata": {},
   "outputs": [
    {
     "name": "stdout",
     "output_type": "stream",
     "text": [
      "First Ride sharer response record in dataframe = \n",
      "name               Mohit\n",
      "philately              1\n",
      "birdwatching           0\n",
      "planting               1\n",
      "cleanmanipal           1\n",
      "pets                   0\n",
      "organic                1\n",
      "normal_workweek        1\n",
      "Name: 0, dtype: object\n"
     ]
    }
   ],
   "source": [
    "a = df_green.iloc[0]\n",
    "print(\"First Ride sharer response record in dataframe = \")\n",
    "print(a)"
   ]
  },
  {
   "cell_type": "code",
   "execution_count": 90,
   "metadata": {},
   "outputs": [
    {
     "name": "stdout",
     "output_type": "stream",
     "text": [
      "Sixth Ride sharer response record in dataframe = \n",
      "name               Keerthana\n",
      "philately                  0\n",
      "birdwatching               1\n",
      "planting                   0\n",
      "cleanmanipal               0\n",
      "pets                       0\n",
      "organic                    0\n",
      "normal_workweek            0\n",
      "Name: 5, dtype: object\n"
     ]
    }
   ],
   "source": [
    "b = df_green.iloc[5]\n",
    "print(\"Sixth Ride sharer response record in dataframe = \")\n",
    "print(b)"
   ]
  },
  {
   "cell_type": "markdown",
   "metadata": {},
   "source": [
    "The similarity formula between any two records a and b as given earlier is\n",
    "$$\n",
    "similarity = \\frac{a \\cap b}{a \\cup b}\n",
    "$$\n",
    "\n",
    "where we can further use the following formulas in linear algebra\n",
    "\n",
    "1. Formula for intersection of two records a and b: $ a \\cap b = a^Tb $\n",
    "2. Formula for union of two records a and b: $a \\cup b = \\|a\\|^2 + \\|b\\|^2 - a \\cap b $ \n",
    "\n",
    "where $\\|a\\|^2$ and  $\\|b\\|^2$ squared L2 norm of the records a and b"
   ]
  },
  {
   "cell_type": "code",
   "execution_count": 91,
   "metadata": {},
   "outputs": [],
   "source": [
    "# TODO: 1\n",
    "\n",
    "# Question 1: 7 questions were asked to each person, what is the size of response vector from each respondent?\n",
    "# Enter your answer here: ____7_____"
   ]
  },
  {
   "cell_type": "code",
   "execution_count": 92,
   "metadata": {},
   "outputs": [
    {
     "name": "stdout",
     "output_type": "stream",
     "text": [
      "2\n"
     ]
    }
   ],
   "source": [
    "# TODO: 2\n",
    "\n",
    "# Following are a and b records as 1D numpy array\n",
    "a = np.array([1, 0, 1, 0, 0, 1, 1])\n",
    "b = np.array([1, 1, 0, 1, 0, 0, 1])\n",
    "\n",
    "# The intersection of a and b as per the formula given earlier \n",
    "# Complete the following code in place of question mark to implement intersection\n",
    "a_intersect_b = np.dot(a, b)\n",
    "print(a_intersect_b)"
   ]
  },
  {
   "cell_type": "code",
   "execution_count": 93,
   "metadata": {},
   "outputs": [
    {
     "name": "stdout",
     "output_type": "stream",
     "text": [
      "6.0\n"
     ]
    }
   ],
   "source": [
    "# TODO: 3\n",
    "\n",
    "# Following are a and b records as 1D numpy array\n",
    "a = np.array([1, 0, 1, 0, 0, 1, 1])\n",
    "b = np.array([1, 1, 0, 1, 0, 0, 1])\n",
    "\n",
    "# The union of a and b as per the formula given earlier\n",
    "# Complete the following code in place of question mark to implement the union\n",
    "a_union_b = np.linalg.norm(a) ** 2 + np.linalg.norm(b) ** 2 - np.dot(a, b)\n",
    "print(a_union_b)"
   ]
  },
  {
   "cell_type": "code",
   "execution_count": 94,
   "metadata": {},
   "outputs": [],
   "source": [
    "# TODO: 4\n",
    "# Similarity is also known as Intersection over union (IoU)\n",
    "# Put the code for calculating the intersection over union into a single function\n",
    "# 1. Fix compilation errors due to syntax mistake\n",
    "# 2. Fill question marks\n",
    "\n",
    "def intersection_over_union(a, b):\n",
    "    a_intersect_b = np.dot(a, b)\n",
    "    a_union_b = np.linalg.norm(a) ** 2 + np.linalg.norm(b) ** 2 - np.dot(a, b)\n",
    "    return a_intersect_b/a_union_b"
   ]
  },
  {
   "cell_type": "code",
   "execution_count": 95,
   "metadata": {},
   "outputs": [
    {
     "name": "stdout",
     "output_type": "stream",
     "text": [
      "0.3333333333333333\n"
     ]
    }
   ],
   "source": [
    "# TODO: 5\n",
    "\n",
    "# Following are a and b records as 1D numpy array\n",
    "a = np.array([1, 0, 1, 0, 0, 1, 1])\n",
    "b = np.array([1, 1, 0, 1, 0, 0, 1])\n",
    "\n",
    "# fill the question marks\n",
    "# call the function intersection_over_union for a and b and display the results\n",
    "iou = intersection_over_union(a, b)\n",
    "print(iou)"
   ]
  },
  {
   "cell_type": "markdown",
   "metadata": {},
   "source": [
    "The distance between any pair of potential ride sharers and b is\n",
    "$d_{iou}(a,b) = 1 - similarity$\n"
   ]
  },
  {
   "cell_type": "code",
   "execution_count": 96,
   "metadata": {},
   "outputs": [
    {
     "name": "stdout",
     "output_type": "stream",
     "text": [
      "0.6666666666666667\n"
     ]
    }
   ],
   "source": [
    "# TODO: 6\n",
    "\n",
    "# Following are a and b records as 1D numpy array\n",
    "a = np.array([1, 0, 1, 0, 0, 1, 1])\n",
    "b = np.array([1, 1, 0, 1, 0, 0, 1])\n",
    "\n",
    "# Fill the question marks\n",
    "dist = 1 - intersection_over_union(a, b)\n",
    "\n",
    "# Print the IoU distance\n",
    "print(dist)"
   ]
  },
  {
   "cell_type": "code",
   "execution_count": 97,
   "metadata": {},
   "outputs": [],
   "source": [
    "# TODO: 7\n",
    "\n",
    "#Make a function for iou distance\n",
    "def dist_iou(a, b):\n",
    "    return 1 - intersection_over_union(a, b)"
   ]
  },
  {
   "cell_type": "code",
   "execution_count": 98,
   "metadata": {},
   "outputs": [
    {
     "name": "stdout",
     "output_type": "stream",
     "text": [
      "0.6666666666666667\n"
     ]
    }
   ],
   "source": [
    "# TODO: 8\n",
    "\n",
    "# Following are a and b records as 1D numpy array\n",
    "a = np.array([1, 0, 1, 0, 0, 1, 1])\n",
    "b = np.array([1, 1, 0, 1, 0, 0, 1])\n",
    "\n",
    "# Fill the question marks\n",
    "dist = dist_iou(a, b)\n",
    "\n",
    "# Print the IoU distance\n",
    "print(dist)"
   ]
  },
  {
   "cell_type": "markdown",
   "metadata": {},
   "source": [
    "Till now you have worked out a custom distance formula for ride sharing application. \n",
    "\n",
    "Next task is to use the custom distance formula to find pairwise distances between the 10 Malpe-Manipal riders  "
   ]
  },
  {
   "cell_type": "code",
   "execution_count": 99,
   "metadata": {},
   "outputs": [
    {
     "name": "stdout",
     "output_type": "stream",
     "text": [
      "type(X)=<class 'numpy.ndarray'>\n",
      "X.shape=(10, 7)\n"
     ]
    }
   ],
   "source": [
    "# Convert the riders dataframe into a numpy matrix\n",
    "X = df_green.loc[:, df_green.columns != 'name'].to_numpy()\n",
    "\n",
    "# print the type \n",
    "print(f\"type(X)={type(X)}\")\n",
    "\n",
    "# print the shape\n",
    "print(f\"X.shape={X.shape}\")"
   ]
  },
  {
   "cell_type": "markdown",
   "metadata": {},
   "source": [
    "1. There are 10 records in the numpy array X\n",
    "2. You want to find pairwise distance between each of the 10 records\n",
    "3. However you dont want to find distance of a record with self\n",
    "4. You also dont want find the distance between records (b, a) when you would already found distance between (a, b)\n",
    "5. Towards this you used a numpy function that gave the upper triangular indices"
   ]
  },
  {
   "cell_type": "code",
   "execution_count": 100,
   "metadata": {},
   "outputs": [
    {
     "data": {
      "text/plain": [
       "(array([0, 0, 0, 0, 0, 0, 0, 0, 0, 1, 1, 1, 1, 1, 1, 1, 1, 2, 2, 2, 2, 2,\n",
       "        2, 2, 3, 3, 3, 3, 3, 3, 4, 4, 4, 4, 4, 5, 5, 5, 5, 6, 6, 6, 7, 7,\n",
       "        8]),\n",
       " array([1, 2, 3, 4, 5, 6, 7, 8, 9, 2, 3, 4, 5, 6, 7, 8, 9, 3, 4, 5, 6, 7,\n",
       "        8, 9, 4, 5, 6, 7, 8, 9, 5, 6, 7, 8, 9, 6, 7, 8, 9, 7, 8, 9, 8, 9,\n",
       "        9]))"
      ]
     },
     "execution_count": 100,
     "metadata": {},
     "output_type": "execute_result"
    }
   ],
   "source": [
    "# TODO: 9\n",
    "# Get the right shifted version of upper triangular indices. Right shifted by one  \n",
    "\n",
    "idx1, idx2 = np.triu_indices(X.shape[0], k=1)\n",
    "idx1, idx2"
   ]
  },
  {
   "cell_type": "code",
   "execution_count": 101,
   "metadata": {},
   "outputs": [
    {
     "name": "stdout",
     "output_type": "stream",
     "text": [
      "<class 'numpy.ndarray'>\n",
      "(45, 7)\n"
     ]
    }
   ],
   "source": [
    "# TODO: 10\n",
    "# Use the index 1 to get first pair of riders \n",
    "\n",
    "riders1 = X[idx1]\n",
    "\n",
    "# What is the type and shape of riders1\n",
    "print(type(riders1))\n",
    "print(riders1.shape)"
   ]
  },
  {
   "cell_type": "code",
   "execution_count": 102,
   "metadata": {},
   "outputs": [
    {
     "name": "stdout",
     "output_type": "stream",
     "text": [
      "[[1 0 1 1 0 1 1]\n",
      " [1 0 1 1 0 1 1]\n",
      " [1 0 1 1 0 1 1]\n",
      " [1 0 1 1 0 1 1]\n",
      " [1 0 1 1 0 1 1]]\n"
     ]
    }
   ],
   "source": [
    "# TODO: 11\n",
    "# print first 5 entries of riders1\n",
    "print(riders1[0:5])"
   ]
  },
  {
   "cell_type": "code",
   "execution_count": 103,
   "metadata": {},
   "outputs": [
    {
     "name": "stdout",
     "output_type": "stream",
     "text": [
      "[[0 1 1 0 1 1 1]\n",
      " [0 0 0 1 1 0 1]\n",
      " [0 0 1 1 0 1 0]\n",
      " [1 1 0 1 0 0 1]\n",
      " [0 1 0 0 0 0 0]\n",
      " [1 0 0 0 0 1 0]\n",
      " [0 0 0 0 1 0 1]]\n"
     ]
    }
   ],
   "source": [
    "# TODO: 12\n",
    "# use the index 2 to get second pair of riders\n",
    "\n",
    "riders2 = X[idx2]\n",
    "\n",
    "# print first 7 entries of riders1\n",
    "print(riders2[0:7])"
   ]
  },
  {
   "cell_type": "markdown",
   "metadata": {},
   "source": [
    "1. Instead of broadcasted vectorization, you will do programmatic looping over riders1 and riders2\n",
    "2. Calculate the distance between the correpsonding elements in riders1 and riders2\n",
    "3. Add the calculated distance to a numpy array "
   ]
  },
  {
   "cell_type": "code",
   "execution_count": 104,
   "metadata": {},
   "outputs": [
    {
     "name": "stdout",
     "output_type": "stream",
     "text": [
      "[0.57142857 0.66666667 0.4        0.5        1.         0.6\n",
      " 0.83333333 0.5        0.33333333 0.66666667]\n"
     ]
    }
   ],
   "source": [
    "# TODO: 13\n",
    "# Create a empty numpy array to hold the calculated pairwise distances between riders1 and 2\n",
    "dist_arr = np.empty(X.shape[0])\n",
    "\n",
    "for idx in np.arange(0,X.shape[0]):\n",
    "    a = riders1[idx]\n",
    "    b = riders2[idx]    \n",
    "    dist_arr[idx] = dist_iou(a, b)\n",
    "\n",
    "# print the distances array\n",
    "print(dist_arr)"
   ]
  },
  {
   "cell_type": "markdown",
   "metadata": {},
   "source": [
    "1. Now you may want to obtain a sorted version of the distance array\n",
    "2. But more than that you want a argsort and obtain the index of the original dist array"
   ]
  },
  {
   "cell_type": "code",
   "execution_count": 105,
   "metadata": {},
   "outputs": [
    {
     "data": {
      "text/plain": [
       "array([8, 2, 3, 7, 0, 5, 1, 9, 6, 4], dtype=int64)"
      ]
     },
     "execution_count": 105,
     "metadata": {},
     "output_type": "execute_result"
    }
   ],
   "source": [
    "sorted_dist_indices = np.argsort(dist_arr)\n",
    "sorted_dist_indices"
   ]
  },
  {
   "cell_type": "code",
   "execution_count": 106,
   "metadata": {},
   "outputs": [
    {
     "name": "stdout",
     "output_type": "stream",
     "text": [
      "[(0, 1), (0, 2), (0, 3), (0, 4), (0, 5), (0, 6), (0, 7), (0, 8), (0, 9), (1, 2), (1, 3), (1, 4), (1, 5), (1, 6), (1, 7), (1, 8), (1, 9), (2, 3), (2, 4), (2, 5), (2, 6), (2, 7), (2, 8), (2, 9), (3, 4), (3, 5), (3, 6), (3, 7), (3, 8), (3, 9), (4, 5), (4, 6), (4, 7), (4, 8), (4, 9), (5, 6), (5, 7), (5, 8), (5, 9), (6, 7), (6, 8), (6, 9), (7, 8), (7, 9), (8, 9)]\n"
     ]
    }
   ],
   "source": [
    "# TODO: 14\n",
    "# Make a list of tuples of the indices from the the two upper triangular indices using zip\n",
    "\n",
    "triu_idx_list = list(zip(idx1, idx2))\n",
    "print(triu_idx_list)"
   ]
  },
  {
   "cell_type": "markdown",
   "metadata": {},
   "source": [
    "1. You found earlier that sorted_dist_indices contains the indices of distance between riders sorted.\n",
    "2. For e.g. 21 is the first entry. This means the 21st entry in dist_arr is the minimum distance\n",
    "3. The 21st distance is the distance between 21st riders in riders1 and riders2\n",
    "4. Thats why you zipped the two upper triangular indices, so that you can pull their 21st entry as follows "
   ]
  },
  {
   "cell_type": "code",
   "execution_count": 107,
   "metadata": {},
   "outputs": [
    {
     "name": "stdout",
     "output_type": "stream",
     "text": [
      "(2, 7)\n"
     ]
    }
   ],
   "source": [
    "# 21 is the index of those two records with minimum distance\n",
    "# Which are they?\n",
    "# They are obtained peek inside triu_idx_list \n",
    "best_rideshare_index = triu_idx_list[21]  # 21st record in triu_idx_list gives a tuple\n",
    "print(best_rideshare_index)"
   ]
  },
  {
   "cell_type": "code",
   "execution_count": 108,
   "metadata": {},
   "outputs": [
    {
     "name": "stdout",
     "output_type": "stream",
     "text": [
      "Sunil\n",
      "Mithilesh\n"
     ]
    }
   ],
   "source": [
    "# Use the 2 and 7 as the indices to look up in the data frame name column to get the corresponding drivers\n",
    "print(df_green[\"name\"].iloc[2])\n",
    "print(df_green[\"name\"].iloc[7])"
   ]
  },
  {
   "cell_type": "code",
   "execution_count": 109,
   "metadata": {},
   "outputs": [
    {
     "name": "stdout",
     "output_type": "stream",
     "text": [
      "Sunil\n",
      "Mithilesh\n"
     ]
    }
   ],
   "source": [
    "# This cell combines the work of the two previous cells together to get the two best rider pairs\n",
    "print(df_green[\"name\"].iloc[best_rideshare_index[0]])\n",
    "print(df_green[\"name\"].iloc[best_rideshare_index[1]])"
   ]
  },
  {
   "cell_type": "code",
   "execution_count": 110,
   "metadata": {},
   "outputs": [
    {
     "name": "stdout",
     "output_type": "stream",
     "text": [
      "Mohit\n",
      "Rakshith\n"
     ]
    }
   ],
   "source": [
    "# 8 is the index of records with second minimum distance. Refer sorted_dist_indices\n",
    "# Pull up the corresponding rider index from  \n",
    "secondbest_rideshare_index = triu_idx_list[8]\n",
    "print(df_green[\"name\"].iloc[secondbest_rideshare_index[0]])\n",
    "print(df_green[\"name\"].iloc[secondbest_rideshare_index[1]])"
   ]
  },
  {
   "cell_type": "markdown",
   "metadata": {},
   "source": [
    "### Combine all of the above logic into a single function"
   ]
  },
  {
   "cell_type": "code",
   "execution_count": 113,
   "metadata": {},
   "outputs": [],
   "source": [
    "# TODO: 15 \n",
    "# This is a the combined logic in all of the above cells you executed combined into a function\n",
    "# Fill the question marks and complete the function\n",
    "def ride_share_pairs_best_2(df, col_to_pair=\"name\"):\n",
    "    # extract X numpy array from the dataframe by removing the name column\n",
    "    X = df_green.loc[:, df_green.columns != col_to_pair].to_numpy()\n",
    "\n",
    "    # get the right shifted upper triangular indices\n",
    "    idx1, idx2 = np.triu_indices(X.shape[0], k=1)\n",
    "    \n",
    "    # Get the two set of riders for whom we want to find pairwise distances\n",
    "    riders1 = X[idx1]\n",
    "    riders2 = X[idx2]\n",
    "\n",
    "    # Create a empty dist arr to hold the distance between riders1 and riders2\n",
    "    dist_arr = np.empty(X.shape[0])\n",
    "\n",
    "    # Loop over riders1 and riders2 and calculate their paiwise distance using intersection over union\n",
    "    for idx in np.arange(0,X.shape[0]):\n",
    "        a = riders1[idx]\n",
    "        b = riders2[idx]    \n",
    "        dist_arr[idx] = dist_iou(a, b)\n",
    "\n",
    "    # Sort the distances and get their indices in ascending order\n",
    "    sorted_dist_indices = np.argsort(dist_arr)\n",
    "\n",
    "    # zip the upper triangular indices to create the ridershare pair rider indices \n",
    "    triu_idx_list = list(zip(idx1, idx2))\n",
    "\n",
    "    # Select the best pair of rideshare riders with minimum iou distance between them\n",
    "    min_triu_index_tpl = triu_idx_list[21]\n",
    "    best_pair = (df[col_to_pair].iloc[min_triu_index_tpl[0]], df[col_to_pair].iloc[min_triu_index_tpl[1]])\n",
    "\n",
    "    # Select the second best pair of rideshare riders with second minimum iou distance between them\n",
    "    second_min_triu_index_tpl = triu_idx_list[8]\n",
    "    second_best_pair = (df[col_to_pair].iloc[second_min_triu_index_tpl[0]], df[col_to_pair].iloc[second_min_triu_index_tpl[1]])\n",
    "\n",
    "    # Combine the two best pairs into a list\n",
    "    two_best_pairs = [best_pair, second_best_pair]\n",
    "    return two_best_pairs"
   ]
  },
  {
   "cell_type": "code",
   "execution_count": 114,
   "metadata": {},
   "outputs": [
    {
     "data": {
      "text/plain": [
       "[('Sunil', 'Mithilesh'), ('Mohit', 'Rakshith')]"
      ]
     },
     "execution_count": 114,
     "metadata": {},
     "output_type": "execute_result"
    }
   ],
   "source": [
    "# TEST\n",
    "# If this cell prints prints two pairs of rideshare riders as follows, then your function is correct \n",
    "# [ (Sunil, Mithilesh), (Mohit, Rakshith)]\n",
    "ride_share_pairs_best_2(df_green)"
   ]
  },
  {
   "cell_type": "code",
   "execution_count": null,
   "metadata": {},
   "outputs": [],
   "source": []
  }
 ],
 "metadata": {
  "kernelspec": {
   "display_name": "quickstart",
   "language": "python",
   "name": "python3"
  },
  "language_info": {
   "codemirror_mode": {
    "name": "ipython",
    "version": 3
   },
   "file_extension": ".py",
   "mimetype": "text/x-python",
   "name": "python",
   "nbconvert_exporter": "python",
   "pygments_lexer": "ipython3",
   "version": "3.11.4"
  },
  "orig_nbformat": 4
 },
 "nbformat": 4,
 "nbformat_minor": 2
}
