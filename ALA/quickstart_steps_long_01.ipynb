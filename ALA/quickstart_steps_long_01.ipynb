{
 "cells": [
  {
   "cell_type": "markdown",
   "metadata": {},
   "source": [
    "# Python Project Quickstart\n",
    "\n",
    "The goal of this notebook is to show step by step go from cells -> functions -> classes -> external py files\n",
    "\n",
    "### 1. Initial checks and imports"
   ]
  },
  {
   "cell_type": "code",
   "execution_count": null,
   "metadata": {},
   "outputs": [],
   "source": [
    "# Check python paths\n",
    "\n",
    "import sys\n",
    "print(sys.path)"
   ]
  },
  {
   "cell_type": "code",
   "execution_count": null,
   "metadata": {},
   "outputs": [],
   "source": [
    "# Add imports here\n",
    "\n",
    "import numpy as np"
   ]
  },
  {
   "cell_type": "code",
   "execution_count": null,
   "metadata": {},
   "outputs": [],
   "source": [
    "np.__version__ #Print the version to see if it matches with what was specified in requirements.txt"
   ]
  },
  {
   "cell_type": "markdown",
   "metadata": {},
   "source": [
    "### 2. String, Formatted Strings and Hello world"
   ]
  },
  {
   "cell_type": "code",
   "execution_count": null,
   "metadata": {},
   "outputs": [],
   "source": [
    "# Append first and last name\n",
    "first_name = \"John\"\n",
    "last_name = \"Smith\"\n",
    "\n",
    "full_name = \"Hello \" + first_name + \" \" + last_name\n",
    "full_name"
   ]
  },
  {
   "cell_type": "code",
   "execution_count": null,
   "metadata": {},
   "outputs": [],
   "source": [
    "# Append first and last name with f string\n",
    "first_name = \"John\"\n",
    "last_name = \"Smith\"\n",
    "\n",
    "full_name = f\"Hello {first_name} {last_name}\"\n",
    "full_name"
   ]
  },
  {
   "cell_type": "markdown",
   "metadata": {},
   "source": [
    "### 3. Python Functions\n",
    "\n",
    "1. Given the person's language of preference, we would like to greet the person appropriately\n",
    "2. If language is English then we want to say \"Hello Mr. John Smith\"\n",
    "3. If language is Spanish then we want to say \"Hello Senor John Smith\""
   ]
  },
  {
   "cell_type": "code",
   "execution_count": null,
   "metadata": {},
   "outputs": [],
   "source": [
    "# decide on the salutations based on language.\n",
    "def get_mr(language):\n",
    "    person_address = \"Mr.\"\n",
    "    if language == 'Spanish':\n",
    "        person_address = 'Senor'\n",
    "    elif language == 'French':\n",
    "        person_address = \"Monsieur\"\n",
    "    elif language == \"Hindi\":\n",
    "        person_address = \"Srimaan\"\n",
    "    elif language == \"Urdu\":\n",
    "        person_address = \"Janaab\"\n",
    "\n",
    "    return person_address"
   ]
  },
  {
   "cell_type": "code",
   "execution_count": null,
   "metadata": {},
   "outputs": [],
   "source": [
    "first_name = \"Mirza\"\n",
    "last_name = \"Ghalib\"\n",
    "\n",
    "mr = get_mr('Urdu')\n",
    "full_name = f\"{mr} {first_name} {last_name}\"\n",
    "full_name"
   ]
  },
  {
   "cell_type": "code",
   "execution_count": null,
   "metadata": {},
   "outputs": [],
   "source": [
    "# A function that calls another function \n",
    "def get_fullname(first_name, last_name, language=\"English\"):\n",
    "    person_address = get_mr(language)\n",
    "    full_name = f\"{person_address} {first_name} {last_name}\"\n",
    "    return full_name"
   ]
  },
  {
   "cell_type": "code",
   "execution_count": null,
   "metadata": {},
   "outputs": [],
   "source": [
    "print(get_fullname(\"John\", \"Smith\", \"Hindi\"))\n",
    "print(get_fullname(\"John\", \"Smith\")) # If no language is specified, then default value = English"
   ]
  },
  {
   "cell_type": "markdown",
   "metadata": {},
   "source": [
    "##### 3.1 Functions with type hints\n",
    "Note the use of type hints as per PEP 484 https://peps.python.org/pep-0484/"
   ]
  },
  {
   "cell_type": "code",
   "execution_count": null,
   "metadata": {},
   "outputs": [],
   "source": [
    "# Specifying the arguments data type and return data type\n",
    "# This is not mandatory\n",
    "# Even is you incorrectly specify there are no checks by Python interpreter\n",
    "def get_mr(language: str) -> str:\n",
    "    person_address = \"Mr.\"\n",
    "    if language == 'Spanish':\n",
    "        person_address = 'Senor'\n",
    "    elif language == 'French':\n",
    "        person_address = \"Monsieur\"\n",
    "    elif language == \"Hindi\":\n",
    "        person_address = \"Srimaan\"\n",
    "    elif language == \"Urdu\":\n",
    "        person_address = \"Janaab\"\n",
    "\n",
    "    return person_address"
   ]
  },
  {
   "cell_type": "code",
   "execution_count": null,
   "metadata": {},
   "outputs": [],
   "source": [
    "def get_fullname(first_name: str, last_name: str, language=\"English\") -> str:\n",
    "    person_address = get_mr(language)\n",
    "    full_name = f\"{person_address} {first_name} {last_name}\"\n",
    "    return full_name"
   ]
  },
  {
   "cell_type": "code",
   "execution_count": null,
   "metadata": {},
   "outputs": [],
   "source": [
    "print(get_fullname(\"John\", \"Smith\", \"Hindi\"))\n",
    "print(get_fullname(\"John\", \"Smith\")) # If no language is specified, then default value = English"
   ]
  },
  {
   "cell_type": "markdown",
   "metadata": {},
   "source": [
    "### 4. More functions, file open, use of \"with\" statement\n",
    "\n",
    "1. What happens if \"with\" is not used?"
   ]
  },
  {
   "cell_type": "code",
   "execution_count": null,
   "metadata": {},
   "outputs": [],
   "source": [
    "# A candidate has applied for a job. \n",
    "# Send an appropriate email application based on whether application is accepted or rejected\n",
    "def get_email_content(first_name:str, last_name:str, language:str, rejected:bool =False):\n",
    "    full_name_with_salutation = get_fullname(first_name, last_name, language)\n",
    "    email_salutation = f\"Dear {full_name_with_salutation},\\n\"\n",
    "    \n",
    "    if rejected:\n",
    "        email_body = \"We are sorry to inform your job application has been rejected\"\n",
    "    else:\n",
    "        email_body = \"Congratulations. Your job application has been accepted.\"\n",
    "    \n",
    "    email_contents = email_salutation + email_body\n",
    "    return email_contents"
   ]
  },
  {
   "cell_type": "code",
   "execution_count": null,
   "metadata": {},
   "outputs": [],
   "source": [
    "get_email_content(\"John\", \"Smith\", \"French\")"
   ]
  },
  {
   "cell_type": "markdown",
   "metadata": {},
   "source": [
    "1. Use an external template file to store the email content. \n",
    "2. This will allow us to localize the contents based on language (a future requirement)"
   ]
  },
  {
   "cell_type": "code",
   "execution_count": null,
   "metadata": {},
   "outputs": [],
   "source": [
    "# Let us see how a template works\n",
    "\n",
    "from string import Template\n",
    "\n",
    "msg = \"Hello $name. How are you?\" \n",
    "t = Template(msg)\n",
    "t.substitute(name = \"John Smith\")"
   ]
  },
  {
   "cell_type": "code",
   "execution_count": null,
   "metadata": {},
   "outputs": [],
   "source": [
    "# What if we did not use the \"with\"\n",
    "with open(\"accept_email_template.txt\", \"r+\") as accept_file:\n",
    "    file_contents = accept_file.read()\n",
    "    print(file_contents)\n",
    "\n",
    "#Try reading from the accept_file here\n",
    "#accept_file.read()"
   ]
  },
  {
   "cell_type": "code",
   "execution_count": null,
   "metadata": {},
   "outputs": [],
   "source": [
    "# Read contents of both accept and reject template\n",
    "from string import Template\n",
    "with open(\"accept_email_template.txt\", \"r+\") as accept_file:\n",
    "    file_contents = accept_file.read()\n",
    "    accept_template = Template(file_contents)\n",
    "\n",
    "with open(\"reject_email_template.txt\", \"r+\") as reject_file:\n",
    "    file_contents = reject_file.read()\n",
    "    reject_template = Template(file_contents)\n",
    "\n",
    "accept_template, reject_template"
   ]
  },
  {
   "cell_type": "code",
   "execution_count": null,
   "metadata": {},
   "outputs": [],
   "source": [
    "# Rewritten email body function that accepts the two templates and creates email content\n",
    "def get_email_content(accept_template, reject_template, first_name, last_name, language, rejected=False):\n",
    "    full_name = get_fullname(first_name, last_name, language)\n",
    "    if rejected:\n",
    "        email_contents = reject_template.substitute(name = full_name)\n",
    "    else:\n",
    "        email_contents = accept_template.substitute(name = full_name)\n",
    "    \n",
    "    return email_contents"
   ]
  },
  {
   "cell_type": "markdown",
   "metadata": {},
   "source": [
    "1. The above code looked for the two template files in the current working directory.\n",
    "2. Often the file can be located elsewhere and cause errors\n",
    "3. How do we find current directory during debugging?"
   ]
  },
  {
   "cell_type": "code",
   "execution_count": null,
   "metadata": {},
   "outputs": [],
   "source": [
    "#Does not work in Windows and VS code. Works on Linux and Jupyter Notebook or Colab\n",
    "#!pwd"
   ]
  },
  {
   "cell_type": "code",
   "execution_count": null,
   "metadata": {},
   "outputs": [],
   "source": [
    "import os\n",
    "os.getcwd()"
   ]
  },
  {
   "cell_type": "code",
   "execution_count": null,
   "metadata": {},
   "outputs": [],
   "source": [
    "get_email_content(accept_template, reject_template, \"John\", \"Smith\", \"French\", True)"
   ]
  },
  {
   "cell_type": "markdown",
   "metadata": {},
   "source": [
    "### 5. Creating a Candidate class"
   ]
  },
  {
   "cell_type": "code",
   "execution_count": null,
   "metadata": {},
   "outputs": [],
   "source": [
    "class Candidate:\n",
    "    \"\"\"\n",
    "    Constructor\n",
    "    \"\"\"\n",
    "    def __init__(): # missing self argument. this will thrown an error\n",
    "        pass"
   ]
  },
  {
   "cell_type": "code",
   "execution_count": null,
   "metadata": {},
   "outputs": [],
   "source": [
    "candidate = Candidate()"
   ]
  },
  {
   "cell_type": "code",
   "execution_count": null,
   "metadata": {},
   "outputs": [],
   "source": [
    "class Candidate:\n",
    "    \"\"\"\n",
    "    Constructor\n",
    "    \"\"\"\n",
    "    def _init_(self): # this does not run. why?\n",
    "        print(\"Entering constructor of Candidate class\")"
   ]
  },
  {
   "cell_type": "code",
   "execution_count": null,
   "metadata": {},
   "outputs": [],
   "source": [
    "candidate = Candidate()"
   ]
  },
  {
   "cell_type": "code",
   "execution_count": null,
   "metadata": {},
   "outputs": [],
   "source": [
    "class Candidate:\n",
    "    \"\"\"\n",
    "    Constructor\n",
    "    \"\"\"\n",
    "    def __init__(self): # this will run\n",
    "        print(\"Entering constructor of Candidate class\")"
   ]
  },
  {
   "cell_type": "code",
   "execution_count": null,
   "metadata": {},
   "outputs": [],
   "source": [
    "candidate = Candidate()"
   ]
  },
  {
   "cell_type": "code",
   "execution_count": null,
   "metadata": {},
   "outputs": [],
   "source": [
    "# Create a class, access its attributes\n",
    "class Candidate:\n",
    "    \"\"\"\n",
    "    Constructor\n",
    "    \"\"\"\n",
    "    def __init__(self, first_name, last_name): # this will run, but will not work as expected\n",
    "        print(\"Entering constructor of Candidate class\")\n",
    "        first_name = first_name\n",
    "        last_name = last_name"
   ]
  },
  {
   "cell_type": "code",
   "execution_count": null,
   "metadata": {},
   "outputs": [],
   "source": [
    "candidate = Candidate() # this line fails why?\n",
    "candidate.last_name "
   ]
  },
  {
   "cell_type": "code",
   "execution_count": null,
   "metadata": {},
   "outputs": [],
   "source": [
    "# Notice we do not pass \"self\". self is passed automatically by python.\n",
    "# We only pass the arguments after the self, as if they are function arguments\n",
    "candidate = Candidate(\"John\", \"Smith\") \n",
    "\n",
    "candidate.last_name #why does this line give error?"
   ]
  },
  {
   "cell_type": "code",
   "execution_count": null,
   "metadata": {},
   "outputs": [],
   "source": [
    "# TODO\n",
    "# Copy the Candidate class here and make changes to fix the above error\n",
    "# Hint: 'Candidate' object has no attribute 'last_name' implies\n",
    "# the last_name is not associated with the instantiated object \"self\"\n",
    "\n"
   ]
  },
  {
   "cell_type": "code",
   "execution_count": null,
   "metadata": {},
   "outputs": [],
   "source": [
    "# The code below should work correctly \n",
    "# after fixing the errors in Candidate Class and putting in above cell\n",
    "candidate = Candidate(\"John\", \"Smith\") \n",
    "\n",
    "candidate.last_name #This should print the value of the attribute \"last_name\" viz. Smith"
   ]
  },
  {
   "cell_type": "code",
   "execution_count": null,
   "metadata": {},
   "outputs": [],
   "source": [
    "# TODO: Adding bells and whistles\n",
    "class Candidate:\n",
    "    \"\"\"\n",
    "    Constructor\n",
    "    \"\"\"\n",
    "    # TODO Language argument is added new. Make its default value English \n",
    "    # TODO PEP 484 enable the method signature with type hints\n",
    "    def __init__(self, first_name, last_name, language): #l\n",
    "        print(\"Entering constructor of Candidate class\")\n",
    "        # TODO Set all 3 attributes on the object instance\n",
    "        FILL THIS PORTION OF CODE"
   ]
  },
  {
   "cell_type": "code",
   "execution_count": null,
   "metadata": {},
   "outputs": [],
   "source": [
    "# TODO\n",
    "# test the Candidate code\n",
    "FILL THIS PORTION OF CODE"
   ]
  },
  {
   "cell_type": "markdown",
   "metadata": {},
   "source": [
    "### 6. Enhancing the Candidate class\n",
    "\n",
    "1. Replacing the memory address with an actual \"stringified\" object\n",
    "2. Replacing the jupyter notebook object display with an actual \"stringified\" object"
   ]
  },
  {
   "cell_type": "code",
   "execution_count": null,
   "metadata": {},
   "outputs": [],
   "source": [
    "candidate = Candidate(\"John\", \"Smith\")\n",
    "print(candidate) # displays memory address like this: <__main__.Candidate object at 0x000002064D2946D0>\n",
    "candidate # displays memory address like this: <__main__.Candidate object at 0x000002064D2946D0>"
   ]
  },
  {
   "cell_type": "code",
   "execution_count": null,
   "metadata": {},
   "outputs": [],
   "source": [
    "# Note the addition of __str__() method. \n",
    "# All methods beginning and ending with double underscores are special in python\n",
    "# Some of those names are also special\n",
    "# Other examples include __init__, __call__, __new__ etc.\n",
    "class Candidate:\n",
    "    \"\"\"\n",
    "    Constructor\n",
    "    \"\"\"\n",
    "    def __init__(self, first_name:str, last_name:str, language:str = \"English\"):\n",
    "        print(\"Entering constructor of Candidate class\")\n",
    "        self.first_name = first_name\n",
    "        self.last_name = last_name\n",
    "        self.language = language\n",
    "\n",
    "    \"\"\"\n",
    "    Cretes the string representation when print() is called\n",
    "    \"\"\"\n",
    "    def __str__(self) -> str:\n",
    "        candidate_str = f\"FirstName={self.first_name}, LastName={self.last_name}, Language={self.language}\"\n",
    "        return candidate_str"
   ]
  },
  {
   "cell_type": "code",
   "execution_count": null,
   "metadata": {},
   "outputs": [],
   "source": [
    "candidate = Candidate(\"John\", \"Smith\")\n",
    "print(candidate) # this will display a readable string representation of candidate object\n",
    "candidate # displays memory address like this: <__main__.Candidate object at 0x000002064D2946D0>"
   ]
  },
  {
   "cell_type": "code",
   "execution_count": null,
   "metadata": {},
   "outputs": [],
   "source": [
    "# Note the addition of _repr_pretty_ method in addition to __str__() method. \n",
    "# Comment of its utility is inline. Please read it\n",
    "# Also note that it does not have double underscores in the beginning and end\n",
    "# This is because it is consumed by IPython and not Python interpreter\n",
    "class Candidate:\n",
    "    \"\"\"\n",
    "    Constructor\n",
    "    \"\"\"\n",
    "    def __init__(self, first_name:str, last_name:str, language:str = \"English\"):\n",
    "        # TODO: Remove this print statement, now that we are sure this function executes\n",
    "        print(\"Entering constructor of Candidate class\")\n",
    "        self.first_name = first_name\n",
    "        self.last_name = last_name\n",
    "        self.language = language\n",
    "\n",
    "    \"\"\"\n",
    "    Cretes the string representation when print() is called\n",
    "    \"\"\"\n",
    "    def __str__(self) -> str:\n",
    "        candidate_str = f\"FirstName={self.first_name}, LastName={self.last_name}, Language={self.language}\"\n",
    "        return candidate_str\n",
    "\n",
    "    \"\"\"\n",
    "    By default, when IPython displays an object, it seems to use __repr__.\n",
    "    __repr__ is supposed to produce a unique string which could be used to \n",
    "    reconstruct an object, given the right environment. \n",
    "    \n",
    "    This is distinct from __str__, which supposed to produce human-readable output    \n",
    "    \"\"\"\n",
    "    def _repr_pretty_(self, p, cycle) -> None:\n",
    "       p.text(str(self) if not cycle else '...')"
   ]
  },
  {
   "cell_type": "code",
   "execution_count": null,
   "metadata": {},
   "outputs": [],
   "source": [
    "candidate = Candidate(\"John\", \"Smith\")\n",
    "\n",
    "# TODO: Add test code here for print and ipython object display"
   ]
  },
  {
   "cell_type": "code",
   "execution_count": null,
   "metadata": {},
   "outputs": [],
   "source": [
    "# How to find the memory address of object after overriding __str__ and _repr_pretty_\n",
    "id(candidate)"
   ]
  },
  {
   "cell_type": "markdown",
   "metadata": {},
   "source": [
    "### 7. Object equality, object identity and hashability\n",
    "\n",
    "1. Two strings with same value can be compared with == and \"is\"\n",
    "2. They can both return True, or the \"is\" return False\n",
    "3. Similar provision is needed for Candidate object. This section covers this"
   ]
  },
  {
   "cell_type": "code",
   "execution_count": null,
   "metadata": {},
   "outputs": [],
   "source": [
    "str1 = \"John\"\n",
    "str2 = \"Smith\"\n",
    "str3 = \"John\"\n",
    "print(f\"str1 == str2: {str1 == str2}\")\n",
    "print(f\"str1 == str3: {str1 == str3}\")\n",
    "print(f\"str1.__eq__(str2): {str1.__eq__(str2)}\")\n",
    "print(f\"str1.__eq__(str3): {str1.__eq__(str3)}\")"
   ]
  },
  {
   "cell_type": "code",
   "execution_count": null,
   "metadata": {},
   "outputs": [],
   "source": [
    "print(f\"str1 is str2: {str1 is str3}\")"
   ]
  },
  {
   "cell_type": "code",
   "execution_count": null,
   "metadata": {},
   "outputs": [],
   "source": [
    "candidate1 = Candidate(\"John\", \"Smith\")\n",
    "candidate2 = Candidate(\"John\", \"Smith\")\n",
    "candidate1 == candidate2 # Why does this evaluate to False"
   ]
  },
  {
   "cell_type": "code",
   "execution_count": null,
   "metadata": {},
   "outputs": [],
   "source": [
    "candidate1 is candidate2 # Why does this evaluate to False"
   ]
  },
  {
   "cell_type": "code",
   "execution_count": null,
   "metadata": {},
   "outputs": [],
   "source": [
    "candidate1 = Candidate(\"John\", \"Smith\")\n",
    "candidate2 = Candidate(\"John\", \"Smith\")\n",
    "\n",
    "mydict = { }\n",
    "mydict[candidate1] = 10 \n",
    "mydict[candidate2] = 20 \n",
    "\n",
    "mydict # how many values will dictionary have?"
   ]
  },
  {
   "cell_type": "code",
   "execution_count": null,
   "metadata": {},
   "outputs": [],
   "source": [
    "from string import Template\n",
    "\n",
    "class Candidate:\n",
    "    \"\"\"\n",
    "    Constructor\n",
    "    Note the use of type hints as per PEP 484 https://peps.python.org/pep-0484/\n",
    "    \"\"\"\n",
    "    def __init__(self, first_name: str, last_name:str, language:str =\"English\") -> None:\n",
    "        #print(\"Entering the init\")\n",
    "        self.first_name = first_name\n",
    "        self.last_name = last_name\n",
    "        self.language = language\n",
    "\n",
    "    \"\"\"\n",
    "    Creates string representation when print() is called\n",
    "    \"\"\"\n",
    "    def __str__(self) -> str:\n",
    "        candidate_str = f\"FirstName={self.first_name}, LastName={self.last_name}, Language={self.language}\"\n",
    "        return candidate_str\n",
    "    \n",
    "    \"\"\"\n",
    "    By default, when IPython displays an object, it seems to use __repr__.\n",
    "    __repr__ is supposed to produce a unique string which could be used to \n",
    "    reconstruct an object, given the right environment. \n",
    "    \n",
    "    This is distinct from __str__, which supposed to produce human-readable output    \n",
    "    \"\"\"\n",
    "    def _repr_pretty_(self, p, cycle) -> None:\n",
    "       p.text(str(self) if not cycle else '...')\n",
    "\n",
    "    def __eq__(self, other):\n",
    "      if isinstance(other, Candidate):\n",
    "         return self.first_name == other.first_name and self.last_name == other.last_name\n",
    "      return False"
   ]
  },
  {
   "cell_type": "code",
   "execution_count": null,
   "metadata": {},
   "outputs": [],
   "source": [
    "candidate1 = Candidate(\"John\", \"Smith\")\n",
    "candidate2 = Candidate(\"John\", \"Smith\")\n",
    "print(candidate1 == candidate2) # Why does this evaluate to True now?\n",
    "print(candidate1 is candidate2) # Why does this evaluate to False even now?"
   ]
  },
  {
   "cell_type": "code",
   "execution_count": null,
   "metadata": {},
   "outputs": [],
   "source": [
    "candidate1 = Candidate(\"John\", \"Smith\")\n",
    "\n",
    "mydict = { }\n",
    "mydict[candidate1] = 10 # this line gives error - unhashable type: 'Candidate' Why? \n",
    "mydict"
   ]
  },
  {
   "cell_type": "code",
   "execution_count": null,
   "metadata": {},
   "outputs": [],
   "source": [
    "from string import Template\n",
    "\n",
    "class Candidate:\n",
    "    \"\"\"Constructor\"\"\"\n",
    "    def __init__(self, first_name: str, last_name:str, language:str =\"English\") -> None:\n",
    "        self.first_name = first_name\n",
    "        self.last_name = last_name\n",
    "        self.language = language\n",
    "\n",
    "    \"\"\"\n",
    "    Creates string representation when print() is called\n",
    "    \"\"\"\n",
    "    def __str__(self) -> str:\n",
    "        candidate_str = f\"FirstName={self.first_name}, LastName={self.last_name}, Language={self.language}\"\n",
    "        return candidate_str\n",
    "    \n",
    "    \"\"\"\n",
    "    By default, when IPython displays an object, it seems to use __repr__.\n",
    "    __repr__ is supposed to produce a unique string which could be used to \n",
    "    reconstruct an object, given the right environment. \n",
    "    \n",
    "    This is distinct from __str__, which supposed to produce human-readable output    \n",
    "    \"\"\"\n",
    "    def _repr_pretty_(self, p, cycle) -> None:\n",
    "       p.text(str(self) if not cycle else '...')\n",
    "\n",
    "    def __eq__(self, other):\n",
    "      if isinstance(other, Candidate):\n",
    "         return self.first_name == other.first_name and self.last_name == other.last_name\n",
    "      return False\n",
    "\n",
    "    # Both __eq__ and __hash__ methods have to be overridden\n",
    "    # ideally the hash function should only depend on the attributes used for equality check\n",
    "    def __hash__(self):\n",
    "        return hash((self.first_name, self.last_name))"
   ]
  },
  {
   "cell_type": "code",
   "execution_count": null,
   "metadata": {},
   "outputs": [],
   "source": [
    "candidate1 = Candidate(\"John\", \"Smith\")\n",
    "candidate2 = Candidate(\"John\", \"Smith\")\n",
    "\n",
    "mydict = { }\n",
    "mydict[candidate1] = 10 \n",
    "mydict[candidate2] = 20 \n",
    "\n",
    "mydict # how many values will dictionary have? (Compare with the case when __eq__ and __hash__ didnt exist)"
   ]
  },
  {
   "cell_type": "markdown",
   "metadata": {},
   "source": [
    "### 8. Replacing the string based values with Enum\n",
    "\n",
    "1. Saves from typos\n",
    "2. Ability to consolidate the if-elses"
   ]
  },
  {
   "cell_type": "code",
   "execution_count": null,
   "metadata": {},
   "outputs": [],
   "source": [
    "# Remember this good old function?\n",
    "# You could easily mis-spell the language and mess up the if elses\n",
    "def get_mr(language: str) -> str:\n",
    "    person_address = \"Mr.\"\n",
    "    if language == 'Spanish':\n",
    "        person_address = 'Senor'\n",
    "    elif language == 'French':\n",
    "        person_address = \"Monsieur\"\n",
    "    elif language == \"Hindi\":\n",
    "        person_address = \"Srimaan\"\n",
    "    elif language == \"Urdu\":\n",
    "        person_address = \"Janaab\"\n",
    "\n",
    "    return person_address"
   ]
  },
  {
   "cell_type": "code",
   "execution_count": null,
   "metadata": {},
   "outputs": [],
   "source": [
    "from enum import Enum\n",
    "\n",
    "# subclassing Enum. The name in bracket is parent class\n",
    "class Language(Enum):\n",
    "    # all these are class variables\n",
    "    English = 1 \n",
    "    Spanish = 2\n",
    "    French = 3\n",
    "    Hindi = 4\n",
    "    Urdu = 5"
   ]
  },
  {
   "cell_type": "code",
   "execution_count": null,
   "metadata": {},
   "outputs": [],
   "source": [
    "# Now we can rewrite the get_mr() function slightly better way\n",
    "# Remember this good old function?\n",
    "# You could easily mis-spell the language and mess up the if elses\n",
    "def get_mr(language: Language) -> str:\n",
    "    person_address = \"Mr.\"\n",
    "    if language == Language.Spanish:\n",
    "        person_address = 'Senor'\n",
    "    elif language == ??:    #TODO: FILL THE QUESTION MARKS\n",
    "        person_address = \"Monsieur\"\n",
    "    elif language == ??:\n",
    "        person_address = \"Srimaan\"\n",
    "    elif language == ??:\n",
    "        person_address = \"Janaab\"\n",
    "\n",
    "    return person_address"
   ]
  },
  {
   "cell_type": "code",
   "execution_count": null,
   "metadata": {},
   "outputs": [],
   "source": [
    "get_mr(Language.Hindi)"
   ]
  },
  {
   "cell_type": "code",
   "execution_count": null,
   "metadata": {},
   "outputs": [],
   "source": [
    "#List out all Languages \n",
    "list(Language)"
   ]
  },
  {
   "cell_type": "code",
   "execution_count": null,
   "metadata": {},
   "outputs": [],
   "source": [
    "# Lets go one step further and move the function itself into Language Enum as staticmethod\n",
    "from enum import Enum\n",
    "\n",
    "class Language(Enum):\n",
    "    English = 1\n",
    "    Spanish = 2\n",
    "    French = 3\n",
    "    Hindi = 4\n",
    "    Urdu = 5\n",
    "\n",
    "    # Notice that static method does not have a self argument.\n",
    "    # Hence it is not instance specific and cannot use instance level attributes\n",
    "    # static method is for utility functions that are within the class namespace \n",
    "    # but no dependency on the class\n",
    "    @staticmethod\n",
    "    def get_mr(lang):\n",
    "        person_address = \"Mr.\"\n",
    "        if lang == Language.Spanish:\n",
    "            person_address = 'Senor'\n",
    "        elif lang == Language.French:\n",
    "            person_address = \"Monsieur\"\n",
    "        elif lang == Language.Hindi:\n",
    "            person_address = \"Sriman\"\n",
    "        elif lang == Language.Urdu:\n",
    "            person_address = \"Janab\""
   ]
  },
  {
   "cell_type": "code",
   "execution_count": null,
   "metadata": {},
   "outputs": [],
   "source": [
    "# Lets test this \n",
    "Language.get_mr(Language.Hindi)  #Doesn't this look wierd to call two times on Language enum. This needs fix"
   ]
  },
  {
   "cell_type": "code",
   "execution_count": null,
   "metadata": {},
   "outputs": [],
   "source": [
    "# Notice how we have got rid of the get_mr method and its if-elses\n",
    "# This is done in 2 stages\n",
    "# 1. Move the salutations as a second attribute on the Enum\n",
    "# 2. Since the deault Enum behavior supports only one attribute, \n",
    "#    we override the __new__ function of python for this enum & sneak in the salutation as second argument\n",
    "# 3. We cannot do this via __init__ method\n",
    "# This is a advanced level functionality\n",
    "from enum import Enum\n",
    "\n",
    "class Language(Enum):\n",
    "    English = (1, \"Mr.\")\n",
    "    Spanish = (2, 'Senor')\n",
    "    French = (3, 'Monsieur')\n",
    "    Hindi = (4, 'Srimaan')\n",
    "    Urdu = (5, \"Janaab\")\n",
    "\n",
    "    def __new__(cls, code, salutation):\n",
    "        obj = object.__new__(cls) \n",
    "        obj._value_ = code  # set the value, and the extra attribute\n",
    "        obj.salutation = salutation\n",
    "        return obj"
   ]
  },
  {
   "cell_type": "code",
   "execution_count": null,
   "metadata": {},
   "outputs": [],
   "source": [
    "#The above change makes accessing salutations natural and easy\n",
    "Language.Hindi.salutation #compare with the older mechanism - Language.get_mr(Language.Hindi)"
   ]
  },
  {
   "cell_type": "code",
   "execution_count": null,
   "metadata": {},
   "outputs": [],
   "source": [
    "# Time to redefine the function we created at the beginning of this notebook\n",
    "# Notice the last argument is changed from string to Language enum\n",
    "# def get_fullname(first_name: str, last_name: str, language=\"English\") -> str:\n",
    "def get_fullname(first_name: str, last_name: str, language: Language = Language.English) -> str:\n",
    "    person_address = get_mr(language)\n",
    "    full_name = f\"{person_address} {first_name} {last_name}\"\n",
    "    return full_name"
   ]
  },
  {
   "cell_type": "code",
   "execution_count": null,
   "metadata": {},
   "outputs": [],
   "source": [
    "#Test the get_fullname()\n",
    "get_fullname(\"John\", \"Smith\", Language.Urdu)"
   ]
  },
  {
   "cell_type": "code",
   "execution_count": null,
   "metadata": {},
   "outputs": [],
   "source": [
    "# Time to redefine the email content function using the language enum\n",
    "# Question: What has changed?\n",
    "# def get_email_content(accept_template, reject_template, first_name, last_name, language, rejected=False):\n",
    "def get_email_content(accept_template: Template, reject_template:Template, \n",
    "                        first_name:str, last_name:str, language:Language, rejected=False):\n",
    "    full_name = get_fullname(first_name, last_name, language)\n",
    "    if rejected:\n",
    "        email_contents = reject_template.substitute(name = full_name)\n",
    "    else:\n",
    "        email_contents = accept_template.substitute(name = full_name)\n",
    "    \n",
    "    return email_contents"
   ]
  },
  {
   "cell_type": "code",
   "execution_count": null,
   "metadata": {},
   "outputs": [],
   "source": [
    "# Working function with the Language Enum\n",
    "get_email_content(accept_template, reject_template, \"John\", \"Smith\", Language.Urdu, rejected=False)"
   ]
  },
  {
   "cell_type": "markdown",
   "metadata": {},
   "source": [
    "### 9. Adding functionality to the Candidate class"
   ]
  },
  {
   "cell_type": "code",
   "execution_count": null,
   "metadata": {},
   "outputs": [],
   "source": [
    "# After adding all \"technical\" functionality to this class, we now have added a new public method\n",
    "# get_fullname()\n",
    "# this instance level method takes the self.\n",
    "from string import Template\n",
    "\n",
    "class Candidate:\n",
    "    \"\"\" Constructor \"\"\"\n",
    "    def __init__(self, first_name: str, last_name:str, language:str =\"English\") -> None:\n",
    "        #print(\"Entering the init\")\n",
    "        self.first_name = first_name\n",
    "        self.last_name = last_name\n",
    "        self.language = language\n",
    "\n",
    "    # New public method\n",
    "    def get_fullname(self):\n",
    "        person_address = self.language.salutation\n",
    "        full_name = f\"{person_address} {self.first_name} {self.last_name}\"\n",
    "        return full_name\n",
    "\n",
    "    \"\"\"\n",
    "    Cretes the string representation when print() is called\n",
    "    \"\"\"\n",
    "    def __str__(self) -> str:\n",
    "        candidate_str = f\"FirstName={self.first_name}, LastName={self.last_name}, Language={self.language}\"\n",
    "        return candidate_str\n",
    "    \n",
    "    \"\"\"\n",
    "    By default, when IPython displays an object, it seems to use __repr__.\n",
    "    __repr__ is supposed to produce a unique string which could be used to \n",
    "    reconstruct an object, given the right environment. \n",
    "    \n",
    "    This is distinct from __str__, which supposed to produce human-readable output    \n",
    "    \"\"\"\n",
    "    def _repr_pretty_(self, p, cycle) -> None:\n",
    "       p.text(str(self) if not cycle else '...')\n",
    "\n",
    "    def __eq__(self, other):\n",
    "      if isinstance(other, Candidate):\n",
    "         return self.first_name == other.first_name and self.last_name == other.last_name\n",
    "      return False\n",
    "\n",
    "    # Both __eq__ and __hash__ methods have to be overridden\n",
    "    # ideally the hash function should only depend on the attributes used for equality check\n",
    "    def __hash__(self):\n",
    "        return hash((self.first_name, self.last_name))"
   ]
  },
  {
   "cell_type": "code",
   "execution_count": null,
   "metadata": {},
   "outputs": [],
   "source": [
    "candidate1 = Candidate(\"John\", \"Smith\")\n",
    "candidate1.get_fullname() # Can you guess why this error occurs? "
   ]
  },
  {
   "cell_type": "code",
   "execution_count": null,
   "metadata": {},
   "outputs": [],
   "source": [
    "#Fix the TODO and run the test\n",
    "class Candidate:\n",
    "    \"\"\" Constructor \"\"\"\n",
    "    def __init__(self, first_name: str, last_name:str, language:str =\"English\") -> None: #TODO: there is an fix needed here can you guess?\n",
    "        #print(\"Entering the init\")\n",
    "        self.first_name = first_name\n",
    "        self.last_name = last_name\n",
    "        self.language = language\n",
    "\n",
    "    # Notice use of underscore as prefix here\n",
    "    def get_fullname(self):\n",
    "        person_address = self.language.salutation\n",
    "        full_name = f\"{person_address} {self.first_name} {self.last_name}\"\n",
    "        return full_name\n",
    "\n",
    "    \"\"\"\n",
    "    Cretes the string representation when print() is called\n",
    "    \"\"\"\n",
    "    def __str__(self) -> str:\n",
    "        candidate_str = f\"FirstName={self.first_name}, LastName={self.last_name}, Language={self.language}\"\n",
    "        return candidate_str\n",
    "    \n",
    "    \"\"\"\n",
    "    By default, when IPython displays an object, it seems to use __repr__.\n",
    "    __repr__ is supposed to produce a unique string which could be used to \n",
    "    reconstruct an object, given the right environment. \n",
    "    \n",
    "    This is distinct from __str__, which supposed to produce human-readable output    \n",
    "    \"\"\"\n",
    "    def _repr_pretty_(self, p, cycle) -> None:\n",
    "       p.text(str(self) if not cycle else '...')\n",
    "\n",
    "    def __eq__(self, other):\n",
    "      if isinstance(other, Candidate):\n",
    "         return self.first_name == other.first_name and self.last_name == other.last_name\n",
    "      return False\n",
    "\n",
    "    # Both __eq__ and __hash__ methods have to be overridden\n",
    "    # ideally the hash function should only depend on the attributes used for equality check\n",
    "    def __hash__(self):\n",
    "        return hash((self.first_name, self.last_name))"
   ]
  },
  {
   "cell_type": "code",
   "execution_count": null,
   "metadata": {},
   "outputs": [],
   "source": [
    "candidate1 = Candidate(\"John\", \"Smith\")\n",
    "candidate1.get_fullname() # Now this should work after fix"
   ]
  },
  {
   "cell_type": "code",
   "execution_count": null,
   "metadata": {},
   "outputs": [],
   "source": [
    "# Now we add more functionality here\n",
    "# 1. Add the get_email_content method, by removing many arguments\n",
    "# 2. Load the accept and reject templates in the constructor\n",
    "class Candidate:\n",
    "    \"\"\" Constructor \"\"\"\n",
    "    def __init__(self, first_name: str, last_name:str, language:Language = Language.English) -> None:\n",
    "        #print(\"Entering the init\")\n",
    "        self.first_name = first_name\n",
    "        self.last_name = last_name\n",
    "        self.language = language\n",
    "\n",
    "    with open(\"accept_email_template.txt\", \"r+\") as accept_file:\n",
    "        file_contents = accept_file.read()\n",
    "        self.accept_template = Template(file_contents) # Note self was added to make accept_template instance variable\n",
    "\n",
    "    with open(\"reject_email_template.txt\", \"r+\") as reject_file:\n",
    "        file_contents = reject_file.read()\n",
    "        self.reject_template = Template(file_contents) # Note self was added to make reject_template instance variable\n",
    "\n",
    "        #TODO: There is something wrong in the above code. What is it?\n",
    "\n",
    "    # Notice use of underscore as prefix here\n",
    "    def get_fullname(self):\n",
    "        person_address = self.language.salutation\n",
    "        full_name = f\"{person_address} {self.first_name} {self.last_name}\"\n",
    "        return full_name\n",
    "\n",
    "    # New public method\n",
    "    def get_email_content(self, rejected=False):\n",
    "        full_name = get_fullname(first_name, last_name, language) #TODO: What change is required here?\n",
    "        if rejected:\n",
    "            email_contents = reject_template.substitute(name = full_name)\n",
    "        else:\n",
    "            email_contents = accept_template.substitute(name = full_name)\n",
    "        \n",
    "        return email_contents\n",
    "\n",
    "    \"\"\"\n",
    "    Cretes the string representation when print() is called\n",
    "    \"\"\"\n",
    "    def __str__(self) -> str:\n",
    "        candidate_str = f\"FirstName={self.first_name}, LastName={self.last_name}, Language={self.language}\"\n",
    "        return candidate_str\n",
    "    \n",
    "    \"\"\"\n",
    "    By default, when IPython displays an object, it seems to use __repr__.\n",
    "    __repr__ is supposed to produce a unique string which could be used to \n",
    "    reconstruct an object, given the right environment. \n",
    "    \n",
    "    This is distinct from __str__, which supposed to produce human-readable output    \n",
    "    \"\"\"\n",
    "    def _repr_pretty_(self, p, cycle) -> None:\n",
    "       p.text(str(self) if not cycle else '...')\n",
    "\n",
    "    def __eq__(self, other):\n",
    "      if isinstance(other, Candidate):\n",
    "         return self.first_name == other.first_name and self.last_name == other.last_name\n",
    "      return False\n",
    "\n",
    "    # Both __eq__ and __hash__ methods have to be overridden\n",
    "    # ideally the hash function should only depend on the attributes used for equality check\n",
    "    def __hash__(self):\n",
    "        return hash((self.first_name, self.last_name))"
   ]
  },
  {
   "cell_type": "code",
   "execution_count": null,
   "metadata": {},
   "outputs": [],
   "source": [
    "# Fix the TODO here one by one and see the errors\n",
    "class Candidate:\n",
    "    \"\"\" Constructor \"\"\"\n",
    "    def __init__(self, first_name: str, last_name:str, language:Language = Language.English) -> None:\n",
    "        #print(\"Entering the init\")\n",
    "        self.first_name = first_name\n",
    "        self.last_name = last_name\n",
    "        self.language = language\n",
    "\n",
    "    with open(\"accept_email_template.txt\", \"r+\") as accept_file:\n",
    "        file_contents = accept_file.read()\n",
    "        self.accept_template = Template(file_contents) # Note self was added to make accept_template instance variable\n",
    "\n",
    "    with open(\"reject_email_template.txt\", \"r+\") as reject_file:\n",
    "        file_contents = reject_file.read()\n",
    "        self.reject_template = Template(file_contents) # Note self was added to make reject_template instance variable\n",
    "\n",
    "        #TODO: There is something wrong in the above code. What is it?\n",
    "\n",
    "    # Notice use of underscore as prefix here\n",
    "    def get_fullname(self):\n",
    "        person_address = self.language.salutation\n",
    "        full_name = f\"{person_address} {self.first_name} {self.last_name}\"\n",
    "        return full_name\n",
    "\n",
    "    # New public method\n",
    "    def get_email_content(self, rejected=False):\n",
    "        full_name = get_fullname(first_name, last_name, language) #TODO: What change is required here?\n",
    "        if rejected:\n",
    "            email_contents = reject_template.substitute(name = full_name)\n",
    "        else:\n",
    "            email_contents = accept_template.substitute(name = full_name)\n",
    "        \n",
    "        return email_contents\n",
    "\n",
    "    \"\"\"\n",
    "    Cretes the string representation when print() is called\n",
    "    \"\"\"\n",
    "    def __str__(self) -> str:\n",
    "        candidate_str = f\"FirstName={self.first_name}, LastName={self.last_name}, Language={self.language}\"\n",
    "        return candidate_str\n",
    "    \n",
    "    \"\"\"\n",
    "    By default, when IPython displays an object, it seems to use __repr__.\n",
    "    __repr__ is supposed to produce a unique string which could be used to \n",
    "    reconstruct an object, given the right environment. \n",
    "    \n",
    "    This is distinct from __str__, which supposed to produce human-readable output    \n",
    "    \"\"\"\n",
    "    def _repr_pretty_(self, p, cycle) -> None:\n",
    "       p.text(str(self) if not cycle else '...')\n",
    "\n",
    "    def __eq__(self, other):\n",
    "      if isinstance(other, Candidate):\n",
    "         return self.first_name == other.first_name and self.last_name == other.last_name\n",
    "      return False\n",
    "\n",
    "    # Both __eq__ and __hash__ methods have to be overridden\n",
    "    # ideally the hash function should only depend on the attributes used for equality check\n",
    "    def __hash__(self):\n",
    "        return hash((self.first_name, self.last_name))"
   ]
  },
  {
   "cell_type": "code",
   "execution_count": null,
   "metadata": {},
   "outputs": [],
   "source": [
    "candidate1 = Candidate(\"John\", \"Smith\")\n",
    "candidate1.get_email_content() "
   ]
  },
  {
   "cell_type": "code",
   "execution_count": null,
   "metadata": {},
   "outputs": [],
   "source": [
    "# Finally a working class\n",
    "class Candidate:\n",
    "    \"\"\" Constructor \"\"\"\n",
    "    def __init__(self, first_name: str, last_name:str, language:Language = Language.English) -> None:\n",
    "        #print(\"Entering the init\")\n",
    "        self.first_name = first_name\n",
    "        self.last_name = last_name\n",
    "        self.language = language\n",
    "\n",
    "        # Note: The logic is repetitive. We will fix it in next step\n",
    "        with open(\"accept_email_template.txt\", \"r+\") as accept_file:\n",
    "            file_contents = accept_file.read()\n",
    "            self.accept_template = Template(file_contents) # Note self was added to make accept_template instance variable\n",
    "\n",
    "        with open(\"reject_email_template.txt\", \"r+\") as reject_file:\n",
    "            file_contents = reject_file.read()\n",
    "            self.reject_template = Template(file_contents) # Note self was added to make reject_template instance variable\n",
    "\n",
    "    # Notice use of underscore as prefix here\n",
    "    def get_fullname(self):\n",
    "        person_address = self.language.salutation\n",
    "        full_name = f\"{person_address} {self.first_name} {self.last_name}\"\n",
    "        return full_name\n",
    "\n",
    "    # New public method\n",
    "    def get_email_content(self, rejected=False):\n",
    "        full_name = self.get_fullname() \n",
    "        if rejected:\n",
    "            email_contents = reject_template.substitute(name = full_name)\n",
    "        else:\n",
    "            email_contents = accept_template.substitute(name = full_name)\n",
    "        \n",
    "        return email_contents\n",
    "\n",
    "    \"\"\"\n",
    "    Cretes the string representation when print() is called\n",
    "    \"\"\"\n",
    "    def __str__(self) -> str:\n",
    "        candidate_str = f\"FirstName={self.first_name}, LastName={self.last_name}, Language={self.language}\"\n",
    "        return candidate_str\n",
    "    \n",
    "    \"\"\"\n",
    "    By default, when IPython displays an object, it seems to use __repr__.\n",
    "    __repr__ is supposed to produce a unique string which could be used to \n",
    "    reconstruct an object, given the right environment. \n",
    "    \n",
    "    This is distinct from __str__, which supposed to produce human-readable output    \n",
    "    \"\"\"\n",
    "    def _repr_pretty_(self, p, cycle) -> None:\n",
    "       p.text(str(self) if not cycle else '...')\n",
    "\n",
    "    def __eq__(self, other):\n",
    "      if isinstance(other, Candidate):\n",
    "         return self.first_name == other.first_name and self.last_name == other.last_name\n",
    "      return False\n",
    "\n",
    "    # Both __eq__ and __hash__ methods have to be overridden\n",
    "    # ideally the hash function should only depend on the attributes used for equality check\n",
    "    def __hash__(self):\n",
    "        return hash((self.first_name, self.last_name)) "
   ]
  },
  {
   "cell_type": "code",
   "execution_count": null,
   "metadata": {},
   "outputs": [],
   "source": [
    "candidate1 = Candidate(\"John\", \"Smith\")\n",
    "candidate1.get_email_content()"
   ]
  },
  {
   "cell_type": "code",
   "execution_count": null,
   "metadata": {},
   "outputs": [],
   "source": [
    "# TODO: Refactor the open() function into reusable static method\n",
    "class Candidate:\n",
    "    \"\"\" Constructor \"\"\"\n",
    "    def __init__(self, first_name: str, last_name:str, language:Language = Language.English) -> None:\n",
    "        #print(\"Entering the init\")\n",
    "        self.first_name = first_name\n",
    "        self.last_name = last_name\n",
    "        self.language = language\n",
    "\n",
    "        # TODO: Extract a method from this logic\n",
    "        with open(\"accept_email_template.txt\", \"r+\") as accept_file:\n",
    "            file_contents = accept_file.read()\n",
    "            self.accept_template = Template(file_contents) \n",
    "\n",
    "        with open(\"reject_email_template.txt\", \"r+\") as reject_file:\n",
    "            file_contents = reject_file.read()\n",
    "            self.reject_template = Template(file_contents) \n",
    "\n",
    "    # Notice use of underscore as prefix here\n",
    "    def get_fullname(self):\n",
    "        person_address = self.language.salutation\n",
    "        full_name = f\"{person_address} {self.first_name} {self.last_name}\"\n",
    "        return full_name\n",
    "\n",
    "    # New public method\n",
    "    def get_email_content(self, rejected=False):\n",
    "        full_name = self.get_fullname() \n",
    "        if rejected:\n",
    "            email_contents = reject_template.substitute(name = full_name)\n",
    "        else:\n",
    "            email_contents = accept_template.substitute(name = full_name)\n",
    "        \n",
    "        return email_contents\n",
    "\n",
    "    \"\"\"\n",
    "    Cretes the string representation when print() is called\n",
    "    \"\"\"\n",
    "    def __str__(self) -> str:\n",
    "        candidate_str = f\"FirstName={self.first_name}, LastName={self.last_name}, Language={self.language}\"\n",
    "        return candidate_str\n",
    "    \n",
    "    \"\"\"\n",
    "    By default, when IPython displays an object, it seems to use __repr__.\n",
    "    __repr__ is supposed to produce a unique string which could be used to \n",
    "    reconstruct an object, given the right environment. \n",
    "    \n",
    "    This is distinct from __str__, which supposed to produce human-readable output    \n",
    "    \"\"\"\n",
    "    def _repr_pretty_(self, p, cycle) -> None:\n",
    "       p.text(str(self) if not cycle else '...')\n",
    "\n",
    "    def __eq__(self, other):\n",
    "      if isinstance(other, Candidate):\n",
    "         return self.first_name == other.first_name and self.last_name == other.last_name\n",
    "      return False\n",
    "\n",
    "    # Both __eq__ and __hash__ methods have to be overridden\n",
    "    # ideally the hash function should only depend on the attributes used for equality check\n",
    "    def __hash__(self):\n",
    "        return hash((self.first_name, self.last_name)) "
   ]
  },
  {
   "cell_type": "code",
   "execution_count": null,
   "metadata": {},
   "outputs": [],
   "source": [
    "# Again we test it\n",
    "candidate1 = Candidate(\"John\", \"Smith\")\n",
    "candidate1.get_email_content()"
   ]
  },
  {
   "cell_type": "code",
   "execution_count": null,
   "metadata": {},
   "outputs": [],
   "source": [
    "# One absolutely last refactoring\n",
    "# Notice use of change by addition of _ prefix in _get_fullname() method\n",
    "# Python does not have concept of public, private protected methods...\n",
    "# All methods are public methods\n",
    "# By prefixing a underscore _ we tell other human readers of this code that the function is private\n",
    "class Candidate:\n",
    "    \"\"\" Constructor \"\"\"\n",
    "    def __init__(self, first_name: str, last_name:str, language:Language = Language.English) -> None:\n",
    "        #print(\"Entering the init\")\n",
    "        self.first_name = first_name\n",
    "        self.last_name = last_name\n",
    "        self.language = language\n",
    "\n",
    "        self.accept_template = Candidate._get_template(\"accept_email_template.txt\")\n",
    "        self.reject_template = Candidate._get_template(\"reject_email_template.txt\")\n",
    "\n",
    "    @staticmethod\n",
    "    def _get_template(filename):\n",
    "        template = None        \n",
    "        with open(filename, \"r+\") as template_file:\n",
    "            file_contents = template_file.read()\n",
    "            template = Template(file_contents)\n",
    "\n",
    "        return template\n",
    "\n",
    "    # Notice use of underscore as prefix here\n",
    "    def _get_fullname(self):\n",
    "        person_address = self.language.salutation\n",
    "        full_name = f\"{person_address} {self.first_name} {self.last_name}\"\n",
    "        return full_name\n",
    "\n",
    "    # New public method\n",
    "    def get_email_content(self, rejected=False):\n",
    "        full_name = self._get_fullname() # Note the change to this method invocation\n",
    "        if rejected:\n",
    "            email_contents = reject_template.substitute(name = full_name)\n",
    "        else:\n",
    "            email_contents = accept_template.substitute(name = full_name)\n",
    "        \n",
    "        return email_contents\n",
    "\n",
    "    \"\"\"\n",
    "    Cretes the string representation when print() is called\n",
    "    \"\"\"\n",
    "    def __str__(self) -> str:\n",
    "        candidate_str = f\"FirstName={self.first_name}, LastName={self.last_name}, Language={self.language}\"\n",
    "        return candidate_str\n",
    "    \n",
    "    \"\"\"\n",
    "    By default, when IPython displays an object, it seems to use __repr__.\n",
    "    __repr__ is supposed to produce a unique string which could be used to \n",
    "    reconstruct an object, given the right environment. \n",
    "    \n",
    "    This is distinct from __str__, which supposed to produce human-readable output    \n",
    "    \"\"\"\n",
    "    def _repr_pretty_(self, p, cycle) -> None:\n",
    "       p.text(str(self) if not cycle else '...')\n",
    "\n",
    "    def __eq__(self, other):\n",
    "      if isinstance(other, Candidate):\n",
    "         return self.first_name == other.first_name and self.last_name == other.last_name\n",
    "      return False\n",
    "\n",
    "    # Both __eq__ and __hash__ methods have to be overridden\n",
    "    # ideally the hash function should only depend on the attributes used for equality check\n",
    "    def __hash__(self):\n",
    "        return hash((self.first_name, self.last_name)) "
   ]
  },
  {
   "cell_type": "code",
   "execution_count": null,
   "metadata": {},
   "outputs": [],
   "source": [
    "# Again we test it\n",
    "candidate1 = Candidate(\"John\", \"Smith\")\n",
    "candidate1.get_email_content(rejected=True)"
   ]
  }
 ],
 "metadata": {
  "kernelspec": {
   "display_name": "quickstart",
   "language": "python",
   "name": "python3"
  },
  "language_info": {
   "codemirror_mode": {
    "name": "ipython",
    "version": 3
   },
   "file_extension": ".py",
   "mimetype": "text/x-python",
   "name": "python",
   "nbconvert_exporter": "python",
   "pygments_lexer": "ipython3",
   "version": "3.9.17"
  },
  "orig_nbformat": 4
 },
 "nbformat": 4,
 "nbformat_minor": 2
}
