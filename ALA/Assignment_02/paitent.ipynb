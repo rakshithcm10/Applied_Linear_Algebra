{
 "cells": [
  {
   "cell_type": "code",
   "execution_count": 1,
   "metadata": {},
   "outputs": [],
   "source": [
    "import pandas as pd\n",
    "import math"
   ]
  },
  {
   "cell_type": "code",
   "execution_count": 2,
   "metadata": {},
   "outputs": [
    {
     "data": {
      "text/html": [
       "<div>\n",
       "<style scoped>\n",
       "    .dataframe tbody tr th:only-of-type {\n",
       "        vertical-align: middle;\n",
       "    }\n",
       "\n",
       "    .dataframe tbody tr th {\n",
       "        vertical-align: top;\n",
       "    }\n",
       "\n",
       "    .dataframe thead th {\n",
       "        text-align: right;\n",
       "    }\n",
       "</style>\n",
       "<table border=\"1\" class=\"dataframe\">\n",
       "  <thead>\n",
       "    <tr style=\"text-align: right;\">\n",
       "      <th></th>\n",
       "      <th>HR</th>\n",
       "      <th>BP</th>\n",
       "      <th>Temp</th>\n",
       "    </tr>\n",
       "    <tr>\n",
       "      <th>Patient</th>\n",
       "      <th></th>\n",
       "      <th></th>\n",
       "      <th></th>\n",
       "    </tr>\n",
       "  </thead>\n",
       "  <tbody>\n",
       "    <tr>\n",
       "      <th>patient1</th>\n",
       "      <td>76</td>\n",
       "      <td>126</td>\n",
       "      <td>38.0</td>\n",
       "    </tr>\n",
       "    <tr>\n",
       "      <th>patient2</th>\n",
       "      <td>74</td>\n",
       "      <td>120</td>\n",
       "      <td>38.0</td>\n",
       "    </tr>\n",
       "    <tr>\n",
       "      <th>patient3</th>\n",
       "      <td>72</td>\n",
       "      <td>118</td>\n",
       "      <td>37.5</td>\n",
       "    </tr>\n",
       "    <tr>\n",
       "      <th>patient4</th>\n",
       "      <td>78</td>\n",
       "      <td>136</td>\n",
       "      <td>37.0</td>\n",
       "    </tr>\n",
       "  </tbody>\n",
       "</table>\n",
       "</div>"
      ],
      "text/plain": [
       "          HR   BP  Temp\n",
       "Patient                \n",
       "patient1  76  126  38.0\n",
       "patient2  74  120  38.0\n",
       "patient3  72  118  37.5\n",
       "patient4  78  136  37.0"
      ]
     },
     "execution_count": 2,
     "metadata": {},
     "output_type": "execute_result"
    }
   ],
   "source": [
    "data = pd.read_csv('patient_data.csv', index_col='Patient')\n",
    "data.head()"
   ]
  },
  {
   "cell_type": "code",
   "execution_count": 3,
   "metadata": {},
   "outputs": [
    {
     "name": "stdout",
     "output_type": "stream",
     "text": [
      "<class 'pandas.core.frame.DataFrame'>\n",
      "Index: 4 entries, patient1 to patient4\n",
      "Data columns (total 3 columns):\n",
      " #   Column  Non-Null Count  Dtype  \n",
      "---  ------  --------------  -----  \n",
      " 0   HR      4 non-null      int64  \n",
      " 1   BP      4 non-null      int64  \n",
      " 2   Temp    4 non-null      float64\n",
      "dtypes: float64(1), int64(2)\n",
      "memory usage: 128.0+ bytes\n"
     ]
    }
   ],
   "source": [
    "data.info()"
   ]
  },
  {
   "cell_type": "code",
   "execution_count": 4,
   "metadata": {},
   "outputs": [
    {
     "data": {
      "text/plain": [
       "HR        int64\n",
       "BP        int64\n",
       "Temp    float64\n",
       "dtype: object"
      ]
     },
     "execution_count": 4,
     "metadata": {},
     "output_type": "execute_result"
    }
   ],
   "source": [
    "data.dtypes"
   ]
  },
  {
   "cell_type": "code",
   "execution_count": 5,
   "metadata": {},
   "outputs": [],
   "source": [
    "data = data.apply(pd.to_numeric)\n",
    "\n",
    "def calculate_distance(p1, p2):\n",
    "    return math.dist(p1, p2)"
   ]
  },
  {
   "cell_type": "markdown",
   "metadata": {},
   "source": [
    "**Task 1: Find the patient farthest from the rest**"
   ]
  },
  {
   "cell_type": "code",
   "execution_count": 6,
   "metadata": {},
   "outputs": [
    {
     "name": "stdout",
     "output_type": "stream",
     "text": [
      "1. The patient farthest from the rest is patient4\n"
     ]
    }
   ],
   "source": [
    "max_distance = 0\n",
    "farthest_patient = None\n",
    "total_distance = 0\n",
    "for patient_id, value1 in data.iterrows():\n",
    "    for patient_id2, value2 in data.iterrows():\n",
    "        if patient_id != patient_id2:\n",
    "            dist = calculate_distance(value1, value2)\n",
    "            total_distance += dist\n",
    "            if total_distance > max_distance:\n",
    "                max_distance = total_distance\n",
    "                farthest_patient = patient_id\n",
    "\n",
    "print(f\"1. The patient farthest from the rest is {farthest_patient}\")"
   ]
  },
  {
   "cell_type": "markdown",
   "metadata": {},
   "source": [
    "**Task 2: Find the two nearest patients**"
   ]
  },
  {
   "cell_type": "code",
   "execution_count": 7,
   "metadata": {},
   "outputs": [
    {
     "name": "stdout",
     "output_type": "stream",
     "text": [
      "2. The two nearest patients are patient2 and patient3\n"
     ]
    }
   ],
   "source": [
    "min_distance = float('inf')\n",
    "nearest_patients = None\n",
    "for patient_id, value1 in data.iterrows():\n",
    "    for patient_id2, value2 in data.iterrows():\n",
    "        if patient_id != patient_id2:\n",
    "            dist = calculate_distance(value1, value2)\n",
    "            if dist < min_distance:\n",
    "                min_distance = dist\n",
    "                nearest_patients = (patient_id, patient_id2)\n",
    "\n",
    "print(f\"2. The two nearest patients are {nearest_patients[0]} and {nearest_patients[1]}\")"
   ]
  },
  {
   "cell_type": "markdown",
   "metadata": {},
   "source": [
    "**Task 3: Create a new dummy patient and find the closest patient**"
   ]
  },
  {
   "cell_type": "code",
   "execution_count": 8,
   "metadata": {},
   "outputs": [
    {
     "name": "stdout",
     "output_type": "stream",
     "text": [
      "3. The closest patient to the dummy patient is patient1\n"
     ]
    }
   ],
   "source": [
    "dummy_patient = [75, 130, 37.5]\n",
    "min_distance = float('inf')\n",
    "closest_patient = None\n",
    "for patient_id, value in data.iterrows():\n",
    "    dist = calculate_distance(dummy_patient, value)\n",
    "    if dist < min_distance:\n",
    "        min_distance = dist\n",
    "        closest_patient = patient_id\n",
    "\n",
    "print(f\"3. The closest patient to the dummy patient is {closest_patient}\")"
   ]
  }
 ],
 "metadata": {
  "kernelspec": {
   "display_name": "pycaretenv",
   "language": "python",
   "name": "python3"
  },
  "language_info": {
   "codemirror_mode": {
    "name": "ipython",
    "version": 3
   },
   "file_extension": ".py",
   "mimetype": "text/x-python",
   "name": "python",
   "nbconvert_exporter": "python",
   "pygments_lexer": "ipython3",
   "version": "3.9.17"
  },
  "orig_nbformat": 4
 },
 "nbformat": 4,
 "nbformat_minor": 2
}
